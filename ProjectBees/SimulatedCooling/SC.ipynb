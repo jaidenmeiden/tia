{
 "cells": [
  {
   "cell_type": "markdown",
   "metadata": {},
   "source": [
    " # Enfriamiento simulado\n",
    "\n",
    "Es un algoritmo de búsqueda metaheurística para problemas de optimización global; el objetivo general de este tipo de algoritmos es encontrar una buena aproximación al valor óptimo de una función en un espacio de búsqueda grande. A este valor óptimo se lo denomina \"óptimo global\"."
   ]
  },
  {
   "cell_type": "markdown",
   "metadata": {},
   "source": [
    "## Abejas vs Pesticidas\n",
    "\n",
    "El uso excesivo de agroquímicos en los campos está comprometiendo el futuro de las abejas, desencadenando consecuencias que pueden ir más allá de los aspectos ambientales pues estos insectos polinizan los principales cultivos del mundo. Se estima que el 75 por ciento de la alimentación humana depende directa o indirectamente de la acción de los insectos polinizadores.\n",
    "\n",
    "### Conceptualización\n",
    "\n",
    "Un pesticida es un compuesto químico que tiene la importancia para el control de plagas en la agricultura. Debido a lo anterior los pesticidas no solamente matan plagas de insectos que afectan los cultivos, sino que también poblaciones de abejas melíferas, las cuales benefician el medio ambiente.\n",
    "\n",
    "Las abejas son los mayores polinizadores de muchas plantas silvestres y monocultivo. Motivo por el cual, su población es fundamental para la productividad agrícola mundial y es evidente que las alteraciones en sus poblaciones podrían derivar en significativas pérdidas económicas.\n",
    "\n",
    "La situación actual de las abejas es preocupante, debido a que el censo poblacional ha disminuido drásticamente por el uso extensivo de pesticidas en monocultivos tecnificados que buscan potenciar el rendimiento de la producción.\n",
    "\n",
    "Los pesticidas son sustancias producidas de forma natural o industrial para destruir organismos potencialmente perjudiciales para las plantas cultivadas y/o animales de producción. Así mismo, se clasifican de acuerdo con el tipo de peste que controlan en: insecticidas (contra insectos), herbicidas (flora arvense), rodenticidas (roedores), bactericidas (bacterias), fungicidas (hongos) y larvicidas (larvas).\n",
    "\n",
    "Estas sustancias pueden ser tóxicas a su vez para las especies que comparten el sitio de fumigación y, dependiendo de la dosificación, pueden tener una acción letal o subletal; a la par, permanecer residualmente en el medio ambiente.\n",
    "\n",
    "### Planteamiento\n",
    "\n",
    "Con base a lo anterior un pesticida contempla tres propiedades inherentes, las cuales son composición, forma de aplicación y residualidad:\n",
    "\n",
    "**Composición:** Está compuesto por varios químicos incluyendo un ingrediente activo que es el químico que mata, controla o repele plagas.\n",
    "\n",
    "**Exposición:** La exposición de las abejas se puede presentar por contacto, por alimentación o por las dos situaciones combinadas.\n",
    "\n",
    "**Aplicación:** Las formas de aplicación de los pesticidas con sus respectivas características, son espolvoreo, pulverización, fumigación, aplicación de cebos, tratamientos vía riego y aplicación en el suelo.\n",
    "\n",
    "**Residuality:** La residualidad del pesticida es un resultado de diversos factores, como la forma y sitio de aplicación, dosis, grado de infestación de la plaga y nivel de control o riesgo, exposición a microorganismos y materia orgánica.\n",
    "\n",
    "Teniendo en cuenta las características mencionadas de los pesticidas, se desea saber cómo deben combinarse estas cuatro características para saber el grado de toxicidad potencial del pesticida y así minimizar la tasa de mortalidad de las poblaciones de abejas melíferas. Para llegar a este resultado hay que tener presente que:\n",
    "\n",
    "* El porcentaje de ingrediente activo en el compuesto puede ser variable.\n",
    "* Algunos pesticidas son: Corrosivos, irritantes, inflamables o explosivos.\n",
    "* La forma de aplicación puede ser cualquiera de las mencionadas anteriormente.\n",
    "* La residualidad  depende de las condiciones de la aplicación.\n",
    "* La exposición de las abejas a los pesticidas puede ser por contacto, alimentación o ambas.\n",
    "* El grado de toxicidad potencial del ingrediente activo puede ser: De baja peligrosidad, nocivo, toxico, muy tóxico.\n",
    "\n",
    "La idea es que el modelo se pueda aplicar para cualquier combinación de cultivo-plaga\n"
   ]
  },
  {
   "cell_type": "markdown",
   "metadata": {},
   "source": [
    "# Librerías"
   ]
  },
  {
   "cell_type": "code",
   "execution_count": 300,
   "metadata": {
    "pycharm": {
     "name": "#%%\n"
    }
   },
   "outputs": [],
   "source": [
    "import numpy as np\n",
    "import random\n",
    "import operator\n",
    "import pandas as pd\n",
    "import matplotlib.pyplot as plt"
   ]
  },
  {
   "cell_type": "markdown",
   "metadata": {},
   "source": [
    "# Representación de los datos\n",
    "\n",
    "Los **cromosomas** del individuo para encontrar una posible solución al problema de las Abejas vs Pesticidas, estan representados pos las siguientes clases:\n",
    "\n",
    "* Cromosoma **Ingrediente** define el ingrediente activo utilizado para un determinado cultivo (Lista de posibles ingredientes activos utilizados para un determinado cultivo) presente en el compuesto y respectiva clasificación (Corrosivo, irritante, inflamable o explosivo).\n",
    "* Cromosoma **Exposicion** define si la exposición que presentan las abejas mielíferas al ingreduente activo es por contacto, alimentación o ambas.\n",
    "* Cromosoma **Aplicacion** define la forma en la que es aplicado el pesticida en el cultivo (espolvoreo, pulverización, fumigación, aplicación de cebos, tratamientos vía riego y aplicación en el suelo)\n",
    "* Cromosoma **Residualidad** define el tiempo en días que el ingrediente activo esta presente en el ecosistema\n",
    "\n",
    "Cada uno de los **individuos** del algoritmo genético esta representado por la clase **Combinacion**, la cual es la unión de las clases anteriormente mencionadas más el porcentaje de concentración del ingrediente activo:\n",
    "\n",
    "* Clase **Compuesto** define el nombre del ingrediente activo presente en el compuesto"
   ]
  },
  {
   "cell_type": "code",
   "execution_count": 301,
   "metadata": {
    "pycharm": {
     "name": "#%%\n"
    }
   },
   "outputs": [],
   "source": [
    "class Combinacion:\n",
    "    def __init__(\n",
    "            self,\n",
    "            ingrediente,\n",
    "            clasificacion,\n",
    "            concentracion,\n",
    "            forma,\n",
    "            tipo,\n",
    "            tiempo\n",
    "    ):\n",
    "        self.ingrediente = ingrediente\n",
    "        self.clasificacion = clasificacion\n",
    "        self.concentracion = concentracion\n",
    "        self.forma = forma\n",
    "        self.tipo = tipo\n",
    "        self.tiempo = tiempo"
   ]
  },
  {
   "cell_type": "markdown",
   "metadata": {},
   "source": [
    "# ¿Cual es el problema a resolver?"
   ]
  },
  {
   "cell_type": "markdown",
   "metadata": {},
   "source": [
    "El objetivo es calcular la toxicidad potencial de cada individuo por la combinación de la concentración de un ingrediente activo específico, la forma de exposición, el tipo de aplicación y la residualidad  para cualquier cultivo en el cual se aplique algún tipo de pesticida, vamos a simular un caso particular para un cultivo dado, aplicando varios posibles pesticidas especializados en el cultivo seleccionado."
   ]
  },
  {
   "cell_type": "markdown",
   "metadata": {},
   "source": [
    "## Problema"
   ]
  },
  {
   "cell_type": "markdown",
   "metadata": {},
   "source": [
    "Al hacer una revisión exhaustiva de todos los métodos de calculo de la toxicidad potencial se encontró una gran cantidad de métodos entre los cuales se encuentran:\n",
    "\n",
    "* El  desarrollado  por  Heijungs  et  al.,  (1992)  y  el  Ecoindicador 95 (Goedkoop y col., 1995). Éstos primeros métodos son los más simplificados y no consideran  destino  final  en  el  ambiente.  Por  tanto  sólo  son  comparables  substancias  de  tiempo  medio de residencia. Esto conlleva  que  sea  un  método  poco  adecuado  para  su  aplicación  en  plaguicidas  en  que  las  vías  de  exposición  son  diversas:  ingesta  de  alimentos,  agua,  inhalación,  ...  y  los  tiempos  de  residencia  varían considerablemente para los diferentes plaguicidas.\n",
    "\n",
    "* Hauschild  (1994)  propone  un  método  EDIP  (Environmental  Development  of  Industrial Products)  en  que  se  analiza  parcialmente  el  destino  final  de  la  substancia.  Este  autor no  ha  desarrollado  factores  de  caracterización  para  plaguicidas.  Esto  significa  un avance  para  la  aplicación  de  este  método  en  agricultura;  sin  embargo  no se considera la ingesta de alimentos.\n",
    "\n",
    "* Jolliet   (1996)   desarrolla   un   método   semi-empírico,   Critical   Surface   Time   (CST), recomendado  en  Audsley  (1997)  para  su  utilización  en  los  ACVs  de  los  sistemas agrícolas.  Trabajos posteriores, optimizan su uso para la aplicación en el cálculo  del impacto  de  toxicidad  de  los  plaguicidas.  Este  método  incluye  un  análisis  del  factor destino  de  los  diferentes  contaminantes,  en  relación  con  el  tiempo  de  residencia  y  el volumen  de  dilución  en  cada  medio,  aire,  agua  y  suelo  y  la  fracción  absorbida.  Es el primer  método  que  incluye  una  aproximación  al  cálculo  de  la  toxicidad  potencial en alimentos  basado  en  el  nivel  de  residuo máximo autorizado.\n",
    "\n",
    "Los anteriores son solamente algunos métodos existentes para calcular la toxicidad potencial de cada pesticida, además, existen protocolos adicionales para dicho calculo en insectos polinizadores como las abejas, sin embrago las formulas y estimaciones son variables dependiendo del tipo de contacto de los pesticidas con las abejas, ya sea por contacto físico o ingestión, ademas también varían las formulas dependiendo de la forma de aplicación, las especificaciones del ecosistema, etc. También  hay que tener en cuenta que la aplicación de las formulas varían de un pais a otro en cuento al calculo respectivo.\n",
    "\n",
    "Teniendo en cuenta lo anterior y basándose en estudios de toxicidad y clasificación de pesticidas para este proyecto se planteo la asignación de pesos según las diferentes combinaciones de ingrediente activo, clasificación de ingrediente activo, tipo de exposición, forma de aplicación y tiempo de residualidad.\n",
    "\n",
    "Es claro que dicha asignación de pesos a las diferentes combinaciones implica un comportamiento ideal de los individuos o poblaciones con las que se esta trabajando, sin embargo la gran cantidad de métodos que existen para el calculo de toxicidad implica mucho mas tiempo del disponible motivo por el cual los modelos de algoritmos genéticos y enfriamiento simulado están trabando con pesos según la combinación respectiva a cada individuo  y la simulación desarrollada trabaja con esos aparatosos para calcular la aptitud en caso del algoritmo genético y el costo en caso del enfriamiento simulado. Las distribución de pesos esta data por la siguiente tabla de datos.\n",
    "\n",
    "Para el caso del porcentaje de ingrediente activo, a mayor concentración de ingrediente activo el riesgo aumenta. Se diseño una formula simple que evidencia este comportamiento, sin embargo a medida que el estudio avance la formula puede ser reemplazada por una formula mucho más apropiada\n",
    "\n",
    ">$RC = 1/(1,1 - concentración)$\n",
    "\n",
    "La residualidad contempla inicialmente un comportamiento lineal, en el cual se evidencia que entre más tiempo el pesticida se encuentre en el ecosistema más probabilidad tiene de contaminar insectos melíferos. De igual forma a medida que el estudio avance  puede ser asignada una formula mucho más apropiada para dicho comportamiento ya que la residualidad esta estrictamente ligada a las características de medio ambiente."
   ]
  },
  {
   "cell_type": "code",
   "execution_count": 302,
   "metadata": {
    "pycharm": {
     "name": "#%%\n"
    }
   },
   "outputs": [],
   "source": [
    "#Arreglos que representan los pesos de cada una de las características de los pesticidas\n",
    "\n",
    "clasificacion = {\n",
    "  1: 1, # Corrosivo\n",
    "  2: 2, # Irritante\n",
    "  3: 3, # Inflamable\n",
    "  4: 4 # Explosivo\n",
    "}\n",
    "\n",
    "exposicion = {\n",
    "  1: 1, # Contacto\n",
    "  2: 2, # Alimentación\n",
    "  3: 3 # Ambas\n",
    "}\n",
    "\n",
    "aplicacion = {\n",
    "  1: 1, # Espolvoreo\n",
    "  2: 2, # Pulverización\n",
    "  3: 3, # Fumigación\n",
    "  4: 4, # Aplicación de cebos\n",
    "  5: 5, # Tratamientos vía riego\n",
    "  6: 6 # Aplicación en el suelo\n",
    "}\n",
    "\n",
    "residualidad = {}\n",
    "for i in range(1,90):\n",
    "    residualidad[i] = i"
   ]
  },
  {
   "cell_type": "markdown",
   "metadata": {},
   "source": [
    "## Peso\n",
    "Para este caso, el costo de una solución es el calculo de la toxicidad del mismo que esta dado por la combinación de la concentración de un ingrediente activo específico, la forma de exposición, el tipo de aplicación y la residualidad como se menciono anteriormente y dicha aptitud esta dada por la formula:\n",
    "\n",
    ">$Aptitud=RC+[\\sum_{i=1}^{N} RCI(Valor_{i})]+[\\sum_{i=1}^{N} RFE(Valor_{i})]+[\\sum_{i=1}^{N} RFA(Valor_{i})]+[\\sum_{i=1}^{N} RTR(Valor_{i})]$\n",
    "\n",
    ">$RC = 1/(1,1 - concentración)$"
   ]
  },
  {
   "cell_type": "markdown",
   "metadata": {},
   "source": [
    "### Descripción\n",
    "\n",
    ">**RC** = Riesgo por concentración\n",
    "\n",
    ">**RCI** = Riesgo por clasificación del ingrediente activo\n",
    "\n",
    ">**RFE** = Riesgo por forma de exposición\n",
    "\n",
    ">**RFA** = Riesgo por forma de aplicación\n",
    "\n",
    ">**RTR** = Riesgo por tiempo de residualidad"
   ]
  },
  {
   "cell_type": "markdown",
   "metadata": {},
   "source": [
    "Definimos la función para calcular el costo para todas las posibles soluciones, está formula fue construida con base a lo expuesto anteriormente. La función hace el sumatorio de puntos de riesgo acumulados por cada uno de los individuos y buscando los individuos que tengan menor temperatura (toxicidad potencial)."
   ]
  },
  {
   "cell_type": "code",
   "execution_count": 303,
   "metadata": {
    "pycharm": {
     "name": "#%%\n"
    }
   },
   "outputs": [],
   "source": [
    "class Costo:\n",
    "    def __init__(self, combinacion):\n",
    "        self.combinacion = combinacion\n",
    "        self.riesgo = 0\n",
    "\n",
    "    def calculoCosto(self):\n",
    "        suma = 1/ (1.1 - self.combinacion.concentracion)\n",
    "        if self.combinacion.clasificacion in clasificacion:\n",
    "            suma = suma + clasificacion[self.combinacion.clasificacion]\n",
    "        if self.combinacion.forma in exposicion:\n",
    "            suma = suma + exposicion[self.combinacion.forma]\n",
    "        if self.combinacion.tipo in aplicacion:\n",
    "            suma = suma + aplicacion[self.combinacion.tipo]\n",
    "        if self.combinacion.tiempo in residualidad:\n",
    "            suma = suma + residualidad[self.combinacion.tiempo]\n",
    "        self.riesgo = suma\n",
    "        return self.riesgo\n",
    "\n",
    "\n",
    "def costando(poblacion, T):\n",
    "    costo = 0\n",
    "    for i in range(len(poblacion)):\n",
    "        if costo == 0:\n",
    "            costo = Costo(poblacion[i]).calculoCosto()\n",
    "        else:\n",
    "            costo1 = Costo(poblacion[i]).calculoCosto()\n",
    "            if costo1<costo or np.random.random()<T:\n",
    "                costo = costo1\n",
    "    return costo"
   ]
  },
  {
   "cell_type": "markdown",
   "metadata": {},
   "source": [
    "## Funciones"
   ]
  },
  {
   "cell_type": "code",
   "execution_count": 304,
   "metadata": {
    "pycharm": {
     "name": "#%%\n"
    }
   },
   "outputs": [],
   "source": [
    "#Creamos la solcución inicial de forma aleatoría.\n",
    "def solucionInicial(n_vecinos):\n",
    "    soluciones = []\n",
    "    for i in range(0, n_vecinos):\n",
    "        soluciones.append(Combinacion(\n",
    "            concentracion=random.random(),\n",
    "            ingrediente=\"Ingrediente activo \" + str(i + 1),\n",
    "            clasificacion=random.randint(1, 4),\n",
    "            forma=random.randint(1, 3),\n",
    "            tipo=random.randint(1, 6),\n",
    "            tiempo=random.randint(1, 90)\n",
    "            )\n",
    "        )\n",
    "    return soluciones\n",
    "\n",
    "def inicializarPoblaciones(n_poblaciones, n_vecinos):\n",
    "  poblaciones = []\n",
    "  for i in range(n_poblaciones):\n",
    "    poblaciones.append(solucionInicial(n_vecinos))\n",
    "  return poblaciones\n",
    "\n",
    "#Creamos una función que para obtener un vecino de cualquier solución\n",
    "def vecino(solucion):\n",
    "    pos1 = np.random.randint(len(solucion))\n",
    "    pos2 = pos1+1 if pos1<len(solucion)-1 else 0\n",
    "    arreglo = np.copy(solucion)\n",
    "    arreglo[pos1]=solucion[pos2]\n",
    "    arreglo[pos2]=solucion[pos1]\n",
    "    return arreglo"
   ]
  },
  {
   "cell_type": "markdown",
   "metadata": {},
   "source": [
    "## Algoritmo de enfriamiento simulado\n",
    "Hemos un bucle bajando la temperatura."
   ]
  },
  {
   "cell_type": "code",
   "execution_count": 305,
   "metadata": {
    "pycharm": {
     "name": "#%%\n"
    }
   },
   "outputs": [],
   "source": [
    "def algoritmo(n_poblaciones, n_vecinos, pasos_enfrimiento):\n",
    "    varios = []\n",
    "\n",
    "    mejorCosto = []\n",
    "    costoMedio = []\n",
    "    desviacionCosto  = []\n",
    "\n",
    "    poblaciones = inicializarPoblaciones(n_poblaciones, n_vecinos)\n",
    "\n",
    "    costoMinimo = np.inf\n",
    "    minimoSolucion  = None\n",
    "\n",
    "    for T in range(0, pasos_enfrimiento):\n",
    "        costos = []\n",
    "        for i in range(len(poblaciones)):\n",
    "            solucion = poblaciones[i]\n",
    "            costoSolucion = costando(solucion, T)\n",
    "\n",
    "            vecinito = vecino(solucion)\n",
    "            costoVecino = costando(vecinito, T)\n",
    "\n",
    "            if costoVecino<costoSolucion or np.random.random()<T:\n",
    "                solucion = vecinito\n",
    "                costoSolucion = costoVecino\n",
    "\n",
    "            poblaciones[i] = solucion\n",
    "            costos.append(costoSolucion)\n",
    "\n",
    "            if costoSolucion < costoMinimo:\n",
    "                minimoSolucion  = np.copy(poblaciones[i])\n",
    "                costoMinimo = costando(poblaciones[i], T)\n",
    "\n",
    "        mejorCosto.append(np.min(costos))\n",
    "        costoMedio.append(np.mean(costos))\n",
    "        desviacionCosto.append(np.std(costos))\n",
    "        if T%50==0:\n",
    "          print('Paso '+str(T),\"Mejor costo: \",mejorCosto[T])\n",
    "\n",
    "    mejorCosto = np.array(mejorCosto)\n",
    "    costoMedio = np.array(costoMedio)\n",
    "    desviacionCosto  = np.array(desviacionCosto)\n",
    "\n",
    "    varios.append(minimoSolucion)\n",
    "    varios.append(mejorCosto)\n",
    "    varios.append(costoMedio)\n",
    "    varios.append(desviacionCosto)\n",
    "\n",
    "    fig = plt.figure(figsize=(15,10))\n",
    "    plt.plot(costoMedio, label=\"Media\")\n",
    "    plt.plot(mejorCosto, label=\"Mejores\")\n",
    "    plt.fill_between(range(len(costoMedio)), costoMedio-desviacionCosto, costoMedio+desviacionCosto, color=\"yellow\", alpha=0.2)\n",
    "    plt.legend()\n",
    "    plt.title(\"Best Costs: %.3f\"%costoMinimo)"
   ]
  },
  {
   "cell_type": "markdown",
   "metadata": {},
   "source": [
    "## Pruebas\n",
    "Realizamos las pruebas del algoritmo de enfrimiento simulado previamente programado."
   ]
  },
  {
   "cell_type": "code",
   "execution_count": 306,
   "metadata": {
    "pycharm": {
     "name": "#%%\n"
    }
   },
   "outputs": [
    {
     "name": "stdout",
     "output_type": "stream",
     "text": [
      "Paso 0 Mejor costo:  4.985110310389417\n",
      "Paso 50 Mejor costo:  6.033832784274122\n",
      "Paso 100 Mejor costo:  11.710036917651536\n",
      "Paso 150 Mejor costo:  6.033832784274122\n",
      "Paso 200 Mejor costo:  8.535854334917673\n",
      "Paso 250 Mejor costo:  9.303843748920675\n",
      "Paso 300 Mejor costo:  8.535854334917673\n",
      "Paso 350 Mejor costo:  8.535854334917673\n",
      "Paso 400 Mejor costo:  11.087293783307022\n",
      "Paso 450 Mejor costo:  11.087293783307022\n",
      "Paso 500 Mejor costo:  11.087293783307022\n",
      "Paso 550 Mejor costo:  9.303843748920675\n",
      "Paso 600 Mejor costo:  8.535854334917673\n",
      "Paso 650 Mejor costo:  9.94714446902858\n",
      "Paso 700 Mejor costo:  6.033832784274122\n",
      "Paso 750 Mejor costo:  6.033832784274122\n",
      "Paso 800 Mejor costo:  6.033832784274122\n",
      "Paso 850 Mejor costo:  6.033832784274122\n",
      "Paso 900 Mejor costo:  8.895118500743838\n",
      "Paso 950 Mejor costo:  6.033832784274122\n"
     ]
    },
    {
     "data": {
      "image/png": "[encoded data removed]",
      "text/plain": [
       "<Figure size 1080x720 with 1 Axes>"
      ]
     },
     "metadata": {
      "needs_background": "light"
     },
     "output_type": "display_data"
    }
   ],
   "source": [
    "algoritmo(n_poblaciones = 100, n_vecinos=100, pasos_enfrimiento=1000)"
   ]
  },
  {
   "cell_type": "markdown",
   "metadata": {
    "pycharm": {
     "name": "#%% md\n"
    }
   },
   "source": [
    "## Investigaciones y Artículos\n",
    "\n",
    "[1] [Guía de Evaluación de Riesgos de Plaguicidas para las Abejas](https://espanol.epa.gov/sites/production-es/files/2017-12/documents/120517_guia_de_evaluacion_de_riesgos_de_plaguicidas_para_las_abejas_update.pdf)\n",
    "\n",
    "[2] [Abejas y Agrotóxicos](https://www.apiservices.biz/documents/articulos-es/abejas_y_agrotoxicos.pdf)\n",
    "\n",
    "[3] [Los plaguicidas, adsorción y evolución en el suelo](https://digital.csic.es/bitstream/10261/12919/1/plaguicidas.pdf%3B)\n",
    "\n",
    "[4] [Calculo de la toxicidad potencial de los plaguicidas](https://www.tdx.cat/bitstream/handle/10803/6827/06CAPITOL5.pdf?sequence=6&isAllowed=y)\n",
    "\n",
    "[5] [Desarrollo de métodos para la reducción de la contaminación por plaguicidas en aguas subterráneas mediante la adición de residuos orgánicos a los suelos](https://idus.us.es/bitstream/handle/11441/41630/Tesis%20completa%20(enviar).pdf)\n",
    "\n",
    "[6] [Daño colateral en abejas por la exposición a pesticidas de uso agrícola](http://www.scielo.org.co/pdf/entra/v14n1/1900-3803-entra-14-01-232.pdf)\n",
    "\n",
    "[7] [Insecticidas más tóxico para las abejas ¿Por qué?](https://agriculturers.com/insecticidas-mas-toxico-para-las-abejas-por-que/)\n",
    "\n",
    "[8] [Residualidad de un herbicida](https://www.rainbowconosur.com/uy/detalle-de-residualidad-de-un-herbicida-194)\n",
    "\n",
    "\n"
   ]
  }
 ],
 "metadata": {
  "kernelspec": {
   "display_name": "Python 3",
   "language": "python",
   "name": "python3"
  },
  "language_info": {
   "codemirror_mode": {
    "name": "ipython",
    "version": 3
   },
   "file_extension": ".py",
   "mimetype": "text/x-python",
   "name": "python",
   "nbconvert_exporter": "python",
   "pygments_lexer": "ipython3",
   "version": "3.7.6"
  }
 },
 "nbformat": 4,
 "nbformat_minor": 1
}