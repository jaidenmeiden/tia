{
 "cells": [
  {
   "cell_type": "markdown",
   "metadata": {},
   "source": [
    " # Enfriamiento simulado\n",
    "\n",
    "Es un algoritmo de búsqueda metaheurística para problemas de optimización global; el objetivo general de este tipo de algoritmos es encontrar una buena aproximación al valor óptimo de una función en un espacio de búsqueda grande. A este valor óptimo se lo denomina \"óptimo global\"."
   ]
  },
  {
   "cell_type": "markdown",
   "metadata": {},
   "source": [
    "## Abejas vs Pesticidas\n",
    "\n",
    "El uso excesivo de agroquímicos en los campos está comprometiendo el futuro de las abejas, desencadenando consecuencias que pueden ir más allá de los aspectos ambientales pues estos insectos polinizan los principales cultivos del mundo. Se estima que el 75 por ciento de la alimentación humana depende directa o indirectamente de la acción de los insectos polinizadores.\n",
    "\n",
    "### Conceptualización\n",
    "\n",
    "Un pesticida es un compuesto químico que tiene la importancia para el control de plagas en la agricultura. Debido a lo anterior los pesticidas no solamente matan plagas de insectos que afectan los cultivos, sino que también poblaciones de abejas melíferas, las cuales benefician el medio ambiente.\n",
    "\n",
    "Las abejas son los mayores polinizadores de muchas plantas silvestres y monocultivo. Motivo por el cual, su población es fundamental para la productividad agrícola mundial y es evidente que las alteraciones en sus poblaciones podrían derivar en significativas pérdidas económicas.\n",
    "\n",
    "La situación actual de las abejas es preocupante, debido a que el censo poblacional ha disminuido drásticamente por el uso extensivo de pesticidas en monocultivos tecnificados que buscan potenciar el rendimiento de la producción.\n",
    "\n",
    "Los pesticidas son sustancias producidas de forma natural o industrial para destruir organismos potencialmente perjudiciales para las plantas cultivadas y/o animales de producción. Así mismo, se clasifican de acuerdo con el tipo de peste que controlan en: insecticidas (contra insectos), herbicidas (flora arvense), rodenticidas (roedores), bactericidas (bacterias), fungicidas (hongos) y larvicidas (larvas).\n",
    "\n",
    "Estas sustancias pueden ser tóxicas a su vez para las especies que comparten el sitio de fumigación y, dependiendo de la dosificación, pueden tener una acción letal o subletal; a la par, permanecer residualmente en el medio ambiente.\n",
    "\n",
    "### Planteamiento\n",
    "\n",
    "Con base a lo anterior un pesticida contempla tres propiedades inherentes, las cuales son composición, forma de aplicación y residualidad:\n",
    "\n",
    "**Composición:** Está compuesto por varios químicos incluyendo un ingrediente activo que es el químico que mata, controla o repele plagas.\n",
    "\n",
    "**Exposición:** La exposición de las abejas se puede presentar por contacto, por alimentación o por las dos situaciones combinadas.\n",
    "\n",
    "**Aplicación:** Las formas de aplicación de los pesticidas con sus respectivas características, son espolvoreo, pulverización, fumigación, aplicación de cebos, tratamientos vía riego y aplicación en el suelo.\n",
    "\n",
    "**Residuality:** La residualidad del pesticida es un resultado de diversos factores, como la forma y sitio de aplicación, dosis, grado de infestación de la plaga y nivel de control o riesgo, exposición a microorganismos y materia orgánica.\n",
    "\n",
    "Teniendo en cuenta las características mencionadas de los pesticidas, se desea saber cómo deben combinarse estas cuatro características para saber el grado de toxicidad potencial del pesticida y así minimizar la tasa de mortalidad de las poblaciones de abejas melíferas. Para llegar a este resultado hay que tener presente que:\n",
    "\n",
    "* El porcentaje de ingrediente activo en el compuesto puede ser variable.\n",
    "* Algunos pesticidas son: Corrosivos, irritantes, inflamables o explosivos.\n",
    "* La forma de aplicación puede ser cualquiera de las mencionadas anteriormente.\n",
    "* La residualidad  depende de las condiciones de la aplicación.\n",
    "* La exposición de las abejas a los pesticidas puede ser por contacto, alimentación o ambas.\n",
    "* El grado de toxicidad potencial del ingrediente activo puede ser: De baja peligrosidad, nocivo, toxico, muy tóxico.\n",
    "\n",
    "La idea es que el modelo se pueda aplicar para cualquier combinación de cultivo-plaga\n"
   ]
  },
  {
   "cell_type": "markdown",
   "metadata": {},
   "source": [
    "# Librerías"
   ]
  },
  {
   "cell_type": "code",
   "execution_count": 176,
   "metadata": {
    "pycharm": {
     "name": "#%%\n"
    }
   },
   "outputs": [],
   "source": [
    "import numpy as np\n",
    "import random\n",
    "import operator\n",
    "import pandas as pd\n",
    "import matplotlib.pyplot as plt"
   ]
  },
  {
   "cell_type": "markdown",
   "metadata": {},
   "source": [
    "# Representación de los datos\n",
    "\n",
    "Los **cromosomas** del individuo para encontrar una posible solución al problema de las Abejas vs Pesticidas, estan representados pos las siguientes clases:\n",
    "\n",
    "* Cromosoma **Ingrediente** define el ingrediente activo utilizado para un determinado cultivo (Lista de posibles ingredientes activos utilizados para un determinado cultivo) presente en el compuesto y respectiva clasificación (Corrosivo, irritante, inflamable o explosivo).\n",
    "* Cromosoma **Exposicion** define si la exposición que presentan las abejas mielíferas al ingreduente activo es por contacto, alimentación o ambas.\n",
    "* Cromosoma **Aplicacion** define la forma en la que es aplicado el pesticida en el cultivo (espolvoreo, pulverización, fumigación, aplicación de cebos, tratamientos vía riego y aplicación en el suelo)\n",
    "* Cromosoma **Residualidad** define el tiempo en días que el ingrediente activo esta presente en el ecosistema\n",
    "\n",
    "Cada uno de los **individuos** del algoritmo genético esta representado por la clase **Combinacion**, la cual es la unión de las clases anteriormente mencionadas más el porcentaje de concentración del ingrediente activo:\n",
    "\n",
    "* Clase **Compuesto** define el nombre del ingrediente activo presente en el compuesto"
   ]
  },
  {
   "cell_type": "code",
   "execution_count": 177,
   "metadata": {
    "pycharm": {
     "name": "#%%\n"
    }
   },
   "outputs": [],
   "source": [
    "class Ingrediente:\n",
    "    def __init__(self, ingrediente = None, clasificacion = []):\n",
    "        self.ingrediente = ingrediente\n",
    "        self.clasificacion = clasificacion\n",
    "\n",
    "class Exposicion:\n",
    "    def __init__(self, forma = None):\n",
    "        self.forma = forma\n",
    "\n",
    "class Aplicacion:\n",
    "    def __init__(self, tipo = None):\n",
    "        self.tipo = tipo\n",
    "\n",
    "class Residualidad:\n",
    "    def __init__(self, tiempo = None):\n",
    "        self.tiempo = tiempo\n",
    "\n",
    "class Combinacion:\n",
    "    def __init__(self, concentracion, ingrediente = Ingrediente(), exposicion = Exposicion(), aplicacion = Aplicacion(), residualidad = Residualidad()):\n",
    "        self.concentracion = concentracion\n",
    "        self.exposicion = exposicion\n",
    "        self.ingrediente = ingrediente\n",
    "        self.aplicacion = aplicacion\n",
    "        self.residualidad = residualidad"
   ]
  },
  {
   "cell_type": "markdown",
   "metadata": {},
   "source": [
    "# ¿Cual es el problema a resolver?"
   ]
  },
  {
   "cell_type": "markdown",
   "metadata": {},
   "source": [
    "El objetivo es calcular la toxicidad potencial de cada individuo por la combinación de la concentración de un ingrediente activo específico, la forma de exposición, el tipo de aplicación y la residualidad  para cualquier cultivo en el cual se aplique algún tipo de pesticida, vamos a simular un caso particular para un cultivo dado, aplicando varios posibles pesticidas especializados en el cultivo seleccionado."
   ]
  },
  {
   "cell_type": "markdown",
   "metadata": {},
   "source": [
    "## Problema"
   ]
  },
  {
   "cell_type": "markdown",
   "metadata": {},
   "source": [
    "La simulación"
   ]
  },
  {
   "cell_type": "code",
   "execution_count": 178,
   "metadata": {
    "pycharm": {
     "name": "#%%\n"
    }
   },
   "outputs": [],
   "source": [
    "clasificacion = {\n",
    "  1: 1, # Corrosivo\n",
    "  2: 2, # Irritante\n",
    "  3: 3, # Inflamable\n",
    "  4: 4 # Explosivo\n",
    "}\n",
    "\n",
    "exposicion = {\n",
    "  1: 1, # Contacto\n",
    "  2: 2, # Alimentación\n",
    "  3: 3 # Ambas\n",
    "}\n",
    "\n",
    "aplicacion = {\n",
    "  1: 1, # Espolvoreo\n",
    "  2: 2, # Contactopulverización\n",
    "  3: 3, # Fumigación\n",
    "  4: 4, # Aplicación de cebos\n",
    "  5: 5, # Tratamientos vía riego\n",
    "  6: 6 # Aplicación en el suelo\n",
    "}\n",
    "\n",
    "residualidad = {}\n",
    "for i in range(1,90):\n",
    "    residualidad[i] = i"
   ]
  },
  {
   "cell_type": "markdown",
   "metadata": {},
   "source": [
    "## Aptitud\n",
    "Para este caso, el costo de una solución es el calculo de la toxicidad del mismo que esta dado por la combinación de la concentración de un ingrediente activo específico, la forma de exposición, el tipo de aplicación y la residualidad como se menciono anteriormente y dicha aptitud esta dada por la formula:\n",
    "\n",
    ">$Aptitud=RC+[\\sum_{i=1}^{N} RCI(Valor_{i})]+[\\sum_{i=1}^{N} RFE(Valor_{i})]+[\\sum_{i=1}^{N} RFA(Valor_{i})]+[\\sum_{i=1}^{N} RTR(Valor_{i})]$\n",
    "\n",
    ">$RC = 1/(1,1 - concentración)$"
   ]
  },
  {
   "cell_type": "markdown",
   "metadata": {},
   "source": [
    "### Descripción\n",
    "\n",
    ">**RC** = Riesgo por concentración\n",
    "\n",
    ">**RCI** = Riesgo por clasificación del ingrediente activo\n",
    "\n",
    ">**RFE** = Riesgo por forma de exposición\n",
    "\n",
    ">**RFA** = Riesgo por forma de aplicación\n",
    "\n",
    ">**RTR** = Riesgo por tiempo de residualidad"
   ]
  },
  {
   "cell_type": "markdown",
   "metadata": {},
   "source": [
    "Definimos la función para calcular el costo para todas las posibles soluciones, está formula fue construida con base a lo expuesto anteriormente. La función hace el sumatorio de puntos de riesgo acumulados por cada uno de los individuos y buscando los individuos que tengan menor temperatura (toxicidad potencial)."
   ]
  },
  {
   "cell_type": "code",
   "execution_count": 179,
   "metadata": {
    "pycharm": {
     "name": "#%%\n"
    }
   },
   "outputs": [],
   "source": [
    "class Costo:\n",
    "    def __init__(self, combinacion):\n",
    "        self.combinacion = combinacion\n",
    "        self.riesgo = 0\n",
    "\n",
    "    def calculoCosto(self):\n",
    "        suma = 1/ (1.1 - self.combinacion.concentracion)\n",
    "        if self.combinacion.ingrediente.clasificacion in clasificacion:\n",
    "            suma = suma + clasificacion[self.combinacion.ingrediente.clasificacion]\n",
    "        if self.combinacion.exposicion.forma in exposicion:\n",
    "            suma = suma + exposicion[self.combinacion.exposicion.forma]\n",
    "        if self.combinacion.aplicacion.tipo in aplicacion:\n",
    "            suma = suma + aplicacion[self.combinacion.aplicacion.tipo]\n",
    "        if self.combinacion.residualidad.tiempo in residualidad:\n",
    "            suma = suma + residualidad[self.combinacion.residualidad.tiempo]\n",
    "        self.riesgo = suma\n",
    "        return self.riesgo"
   ]
  },
  {
   "cell_type": "markdown",
   "metadata": {},
   "source": [
    "## Funciones"
   ]
  },
  {
   "cell_type": "code",
   "execution_count": 180,
   "metadata": {
    "pycharm": {
     "name": "#%%\n"
    }
   },
   "outputs": [],
   "source": [
    "#Creamos la solcución inicial de forma aleatoría.\n",
    "def solucionInicial(n_vecindarios, n_vecinos):\n",
    "    vecindarios = []\n",
    "    for j in range(0, n_vecindarios):\n",
    "        soluciones = []\n",
    "        for i in range(0, n_vecinos):\n",
    "            soluciones.append(Combinacion(\n",
    "                concentracion=random.random(),\n",
    "                ingrediente=Ingrediente(\"Ingrediente activo \" + str(i + 1), random.randint(1, 4)),\n",
    "                exposicion=Exposicion(random.randint(1, 3)),\n",
    "                aplicacion=Aplicacion(random.randint(1, 6)),\n",
    "                residualidad=Residualidad(random.randint(1, 90))\n",
    "                )\n",
    "            )\n",
    "        vecindarios.append(soluciones)\n",
    "    return vecindarios\n",
    "\n",
    "#Creamos una función que para obtener un vecino de cualquier solución\n",
    "def vecino(solution):\n",
    "    i1 = np.random.randint(len(solution))\n",
    "    return solution[i1]\n",
    "\n",
    "def vecino1(solution):\n",
    "    i1 = np.random.randint(len(solution))\n",
    "    i2 = i1+1 if i1<len(solution)-1 else 0\n",
    "    r = np.copy(solution)\n",
    "    r[i1]=solution[i2]\n",
    "    r[i2]=solution[i1]\n",
    "    return r\n",
    "\n",
    "def vecino2(solution):\n",
    "    return vecino1(vecino1(solution))"
   ]
  },
  {
   "cell_type": "markdown",
   "metadata": {},
   "source": [
    "## Algoritmo de enfriamiento simulado\n",
    "Hemos un bucle bajando la temperatura."
   ]
  },
  {
   "cell_type": "code",
   "execution_count": 181,
   "metadata": {
    "pycharm": {
     "name": "#%%\n"
    }
   },
   "outputs": [],
   "source": [
    "def algoritmo(n_vecindarios, n_vecinos, pasos_enfrimiento):\n",
    "    varios = []\n",
    "\n",
    "    mejorCosto = []\n",
    "    costoMedio = []\n",
    "    desviacionCosto  = []\n",
    "\n",
    "    inicial=solucionInicial(n_vecindarios, n_vecinos)\n",
    "\n",
    "    costoMinimo = np.inf\n",
    "    minimoSolucion  = None\n",
    "\n",
    "    for T in range(1, pasos_enfrimiento+1):\n",
    "        costs = []\n",
    "        for i in range(len(inicial)):\n",
    "            sol = inicial[i]\n",
    "\n",
    "            if type(sol) is not Combinacion:\n",
    "                vecinito = vecino(sol)\n",
    "                costoSolucion = Costo(vecinito).calculoCosto()\n",
    "                costoVecino = Costo(vecinito).calculoCosto()\n",
    "\n",
    "                if costoVecino<costoSolucion or np.random.random()<T:\n",
    "                    sol = vecinito\n",
    "                    costoSolucion = costoVecino\n",
    "\n",
    "                inicial[i] = sol\n",
    "                costs.append(costoSolucion)\n",
    "\n",
    "                if costoSolucion < costoMinimo:\n",
    "                    minimoSolucion  = np.copy(inicial[i])\n",
    "                    costoMinimo = Costo(inicial[i]).calculoCosto()\n",
    "            else:\n",
    "                costoMinimo = Costo(sol).calculoCosto()\n",
    "\n",
    "        if len(costs) > 0:\n",
    "            mejorCosto.append(np.min(costs))\n",
    "            costoMedio.append(np.mean(costs))\n",
    "            desviacionCosto.append(np.std(costs))\n",
    "            if T%50==0:\n",
    "              print('Paso '+str(T),\"Mejor costo: \",mejorCosto[i])\n",
    "\n",
    "    costoMedio = np.array(costoMedio)\n",
    "    desviacionCosto  = np.array(desviacionCosto)\n",
    "    mejorCosto = np.array(mejorCosto)\n",
    "\n",
    "    varios.append(minimoSolucion)\n",
    "    varios.append(mejorCosto)\n",
    "    varios.append(costoMedio)\n",
    "    varios.append(desviacionCosto)\n",
    "\n",
    "    plt.plot(mejorCosto)\n",
    "    plt.ylabel('Costo')\n",
    "    plt.xlabel('Pasos')\n",
    "    plt.title('Mejor costo vs enfriamiento')\n",
    "    plt.tight_layout()\n",
    "    plt.show()\n",
    "\n",
    "    return varios"
   ]
  },
  {
   "cell_type": "markdown",
   "metadata": {},
   "source": [
    "## Pruebas\n",
    "Realizamos las pruebas del algoritmo de enfrimiento simulado previamente programado."
   ]
  },
  {
   "cell_type": "code",
   "execution_count": 182,
   "metadata": {
    "pycharm": {
     "name": "#%%\n"
    }
   },
   "outputs": [
    {
     "data": {
      "image/png": "[encoded data removed]",
      "text/plain": [
       "<Figure size 432x288 with 1 Axes>"
      ]
     },
     "metadata": {
      "needs_background": "light"
     },
     "output_type": "display_data"
    }
   ],
   "source": [
    "solucion=algoritmo(n_vecindarios=100, n_vecinos=100, pasos_enfrimiento=100)"
   ]
  },
  {
   "cell_type": "markdown",
   "metadata": {},
   "source": [
    "## Investigaciones y Artículos\n",
    "\n",
    "[1] [Guía de Evaluación de Riesgos de Plaguicidas para las Abejas](https://espanol.epa.gov/sites/production-es/files/2017-12/documents/120517_guia_de_evaluacion_de_riesgos_de_plaguicidas_para_las_abejas_update.pdf)\n",
    "\n",
    "[2] [Abejas y Agrotóxicos](https://www.apiservices.biz/documents/articulos-es/abejas_y_agrotoxicos.pdf)\n",
    "\n",
    "[3] [Los plaguicidas, adsorción y evolución en el suelo](https://digital.csic.es/bitstream/10261/12919/1/plaguicidas.pdf%3B)\n",
    "\n",
    "[4] [Calculo de la toxicidad potencial de los plaguicidas](https://www.tdx.cat/bitstream/handle/10803/6827/06CAPITOL5.pdf?sequence=6&isAllowed=y)\n",
    "\n",
    "[5] [Desarrollo de métodos para la reducción de la contaminación por plaguicidas en aguas subterráneas mediante la adición de residuos orgánicos a los suelos](https://idus.us.es/bitstream/handle/11441/41630/Tesis%20completa%20(enviar).pdf)\n",
    "\n",
    "[6] [Daño colateral en abejas por la exposición a pesticidas de uso agrícola](http://www.scielo.org.co/pdf/entra/v14n1/1900-3803-entra-14-01-232.pdf)\n",
    "\n",
    "[7] [Insecticidas más tóxico para las abejas ¿Por qué?](https://agriculturers.com/insecticidas-mas-toxico-para-las-abejas-por-que/)\n",
    "\n",
    "[8] [Residualidad de un herbicida](https://www.rainbowconosur.com/uy/detalle-de-residualidad-de-un-herbicida-194)\n",
    "\n"
   ]
  },
  {
   "cell_type": "code",
   "execution_count": null,
   "metadata": {
    "pycharm": {
     "name": "#%%\n"
    }
   },
   "outputs": [],
   "source": []
  },
  {
   "cell_type": "code",
   "execution_count": null,
   "metadata": {
    "pycharm": {
     "name": "#%%\n"
    }
   },
   "outputs": [],
   "source": []
  }
 ],
 "metadata": {
  "kernelspec": {
   "display_name": "Python 3",
   "language": "python",
   "name": "python3"
  },
  "language_info": {
   "codemirror_mode": {
    "name": "ipython",
    "version": 3
   },
   "file_extension": ".py",
   "mimetype": "text/x-python",
   "name": "python",
   "nbconvert_exporter": "python",
   "pygments_lexer": "ipython3",
   "version": "3.7.6"
  }
 },
 "nbformat": 4,
 "nbformat_minor": 1
}