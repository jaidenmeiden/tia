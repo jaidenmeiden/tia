{
 "cells": [
  {
   "cell_type": "markdown",
   "metadata": {
    "collapsed": true,
    "pycharm": {
     "name": "#%% md\n"
    }
   },
   "source": [
    " # Introducción\n",
    "\n",
    "Los algoritmos genéticos funcionan iterando sobre generaciones de poblaciones y evaluando qué tan bien estas poblaciones resuelven un problema. Al final de la generación, se seleccionan las mejores personas para producir la próxima generación [1]."
   ]
  },
  {
   "cell_type": "markdown",
   "metadata": {},
   "source": [
    "## Abejas vs Pesticidas\n",
    " \n",
    "El uso excesivo de agroquímicos en los campos está comprometiendo el futuro de las abejas, desencadenando consecuencias que pueden ir más allá de los aspectos ambientales pues estos insectos polinizan los principales cultivos del mundo. Se estima que el 75 por ciento de la alimentación humana depende directa o indirectamente de la acción de los insectos polinizadores.\n",
    "\n",
    "### Conceptualización\n",
    "\n",
    "Un pesticida es un compuesto químico que tiene la importancia para el control de plagas en la agricultura. Debido a lo anterior los pesticidas no solamente matan plagas de insectos que afectan los cultivos, sino que también poblaciones de abejas melíferas, las cuales benefician el medio ambiente.\n",
    "\n",
    "Las abejas son los mayores polinizadores de muchas plantas silvestres y monocultivo. Motivo por el cual, su población es fundamental para la productividad agrícola mundial y es evidente que las alteraciones en sus poblaciones podrían derivar en significativas pérdidas económicas.\n",
    "\n",
    "La situación actual de las abejas es preocupante, debido a que el censo poblacional ha disminuido drásticamente por el uso extensivo de pesticidas en monocultivos tecnificados que buscan potenciar el rendimiento de la producción.\n",
    "\n",
    "Los pesticidas son sustancias producidas de forma natural o industrial para destruir organismos potencialmente perjudiciales para las plantas cultivadas y/o animales de producción. Así mismo, se clasifican de acuerdo con el tipo de peste que controlan en: insecticidas (contra insectos), herbicidas (flora arvense), rodenticidas (roedores), bactericidas (bacterias), fungicidas (hongos) y larvicidas (larvas).\n",
    "\n",
    "Estas sustancias pueden ser tóxicas a su vez para las especies que comparten el sitio de fumigación y, dependiendo de la dosificación, pueden tener una acción letal o subletal; a la par, permanecer residualmente en el medio ambiente.\n",
    "\n",
    "### Planteamiento\n",
    "\n",
    "Con base a lo anterior un pesticida contempla tres propiedades inherentes, las cuales son composición, forma de aplicación y residualidad:\n",
    "\n",
    "**Composición:** Está compuesto por varios químicos incluyendo un ingrediente activo que es el químico que mata, controla o repele plagas.\n",
    "\n",
    "**Aplicación:** Las formas de aplicación de los pesticidas con sus respectivas características, son espolvoreo, pulverización, fumigación, aplicación de cebos, tratamientos vía riego y aplicación en el suelo.\n",
    "\n",
    "**Residuality:** La residualidad del pesticida es un resultado de diversos factores, como la forma y sitio de aplicación, dosis, grado de infestación de la plaga y nivel de control o riesgo, exposición a microorganismos y materia orgánica.\n",
    "\n",
    "Teniendo en cuenta estas tres características de los pesticidas, se desea saber cómo deben combinarse estas tres características y así minimizar la tasa de mortalidad de las poblaciones de abejas melíferas. Para llegar a este resultado hay que tener presente que:\n",
    "\n",
    "* El porcentaje de ingrediente activo en el compuesto puede ser variable\n",
    "* Grado de toxicidad del ingrediente activo: De baja peligrosidad, nocivos, toxico, muy tóxicos\n",
    "* Otros efectos: Corrosivos, irritantes, fácilmente inflamables y explosivos\n",
    "* La forma de aplicación puede ser cualquiera\n",
    "* La residualidad  depende de las condiciones de la aplicación.\n",
    "\n",
    "La idea es que el modelo se pueda aplicar para cualquier combinación de cultivo-plaga\n"
   ]
  },
  {
   "cell_type": "markdown",
   "metadata": {},
   "source": [
    "# Importaciones"
   ]
  },
  {
   "cell_type": "code",
   "execution_count": 9,
   "metadata": {
    "pycharm": {
     "name": "#%%\n"
    }
   },
   "outputs": [],
   "source": [
    "import numpy as np\n",
    "import random\n",
    "import operator\n",
    "import pandas as pd\n",
    "import matplotlib.pyplot as plt"
   ]
  },
  {
   "cell_type": "markdown",
   "metadata": {},
   "source": [
    "# Representación de los datos\n",
    "\n",
    "Clases para representar los datos del individuo para resolver el problema de las Abejas vs Pesticidas:"
   ]
  },
  {
   "cell_type": "code",
   "execution_count": 13,
   "metadata": {
    "pycharm": {
     "name": "#%%\n"
    }
   },
   "outputs": [],
   "source": [
    "class Ingredient:\n",
    "    def __init__(self, name = None, toxicity = None, effects = []):\n",
    "        self.name = name\n",
    "        self.toxicity = toxicity\n",
    "        self.effects = effects\n",
    "\n",
    "    def __repr__(self):\n",
    "        return \"(\" + str(self.name) + \")\"\n",
    "\n",
    "class Application:\n",
    "    def __init__(self, name = None, scope_application = None):\n",
    "        self.name = name\n",
    "        self.scope_application = scope_application\n",
    "\n",
    "    def __repr__(self):\n",
    "        return \"(\" + str(self.name) + \")\"\n",
    "\n",
    "class Residuality:\n",
    "    def __init__(self, name = None, period = None):\n",
    "        self.name = name\n",
    "        self.period = period\n",
    "\n",
    "    def __repr__(self):\n",
    "        return \"(\" + str(self.name) + \")\"\n",
    "\n",
    "class Compuesto:\n",
    "    def __init__(self, concentration, name, ingredient = Ingredient(), application = Application(), residuality = Residuality()):\n",
    "        self.name = name\n",
    "        self.concentration = concentration\n",
    "        self.ingredient = ingredient\n",
    "        self.application = application\n",
    "        self.residuality = residuality\n",
    "\n",
    "    def __repr__(self):\n",
    "        return \"(\" + str(self.name) + \")\"    "
   ]
  },
  {
   "cell_type": "markdown",
   "metadata": {},
   "source": [
    "# ¿Cómo funciona el algoritmo?"
   ]
  },
  {
   "cell_type": "markdown",
   "metadata": {},
   "source": [
    "## Individuo\n",
    "\n",
    "Para este problema específico, el individuo es un compuesto que contiene un ingrediente activo con x concetración, un grado de toxicidad un otros efectos, una forma de aplicación y un periodo de residualidad."
   ]
  },
  {
   "cell_type": "markdown",
   "metadata": {},
   "source": [
    "## Fitness\n",
    "Para este caso, la aptitud de un individuo es la suma de la distancia para cada par de ciudades consecutivas, incluida la suma de la última ciudad de la secuencia y la primera (porque TSP forma un bucle).\n",
    ">$Fitness=[\\sum_{i=1}^{N-1} Distance(City_{i},City_{i+1})]+Distance(City_{N},City_{1})$\n",
    "\n",
    "Esta función de \"Distance\" es solo la distancia euclidiana entre cada ciudad."
   ]
  },
  {
   "cell_type": "code",
   "execution_count": 3,
   "metadata": {
    "pycharm": {
     "name": "#%%\n"
    }
   },
   "outputs": [],
   "source": [
    "#Create a fitness function\n",
    "\n",
    "class Fitness:\n",
    "    def __init__(self, route):\n",
    "        self.route = route\n",
    "        self.distance = 0\n",
    "        self.fitness= 0.0\n",
    "    \n",
    "    def routeDistance(self):\n",
    "        if self.distance ==0:\n",
    "            pathDistance = 0\n",
    "            for i in range(0, len(self.route)):\n",
    "                fromCity = self.route[i]\n",
    "                toCity = None\n",
    "                if i + 1 < len(self.route):\n",
    "                    toCity = self.route[i + 1]\n",
    "                else:\n",
    "                    toCity = self.route[0]\n",
    "                pathDistance += fromCity.distance(toCity)\n",
    "            self.distance = pathDistance\n",
    "        return self.distance\n",
    "    \n",
    "    def routeFitness(self):\n",
    "        if self.fitness == 0:\n",
    "            self.fitness = 1 / float(self.routeDistance())\n",
    "        return self.fitness"
   ]
  },
  {
   "cell_type": "markdown",
   "metadata": {},
   "source": [
    "## Mutación y reproducción\n",
    "El algoritmo crea las próximas generaciones utilizando dos métodos, ya sea mutando individuos individuales según una probabilidad, o \"apareando\" dos individuos para crear uno nuevo. Aquí definimos todas las funciones necesarias para realizar el algoritmo."
   ]
  },
  {
   "cell_type": "code",
   "execution_count": 4,
   "metadata": {
    "pycharm": {
     "name": "#%%\n"
    }
   },
   "outputs": [],
   "source": [
    "#Create our initial population\n",
    "#Route generator\n",
    "#This method randomizes the order of the cities, this mean that this method creates a random individual.\n",
    "def createRoute(cityList):\n",
    "    route = random.sample(cityList, len(cityList))\n",
    "    return route\n",
    "\n",
    "\n",
    "#Create first \"population\" (list of routes)\n",
    "#This method created a random population of the specified size.\n",
    "\n",
    "def initialPopulation(popSize, cityList):\n",
    "    population = []\n",
    "\n",
    "    for i in range(0, popSize):\n",
    "        population.append(createRoute(cityList))\n",
    "    return population\n",
    "\n",
    "\n",
    "#Create the genetic algorithm\n",
    "#Rank individuals\n",
    "#This function takes a population and orders it in descending order using the fitness of each individual\n",
    "def rankRoutes(population):\n",
    "    fitnessResults = {}\n",
    "    for i in range(0,len(population)):\n",
    "        fitnessResults[i] = Fitness(population[i]).routeFitness()\n",
    "    sorted_results=sorted(fitnessResults.items(), key = operator.itemgetter(1), reverse = True)\n",
    "    return sorted_results\n",
    "\n",
    "\n",
    "\n",
    "#Create a selection function that will be used to make the list of parent routes\n",
    "\n",
    "def selection(popRanked, eliteSize):\n",
    "    selectionResults = []\n",
    "    df = pd.DataFrame(np.array(popRanked), columns=[\"Index\",\"Fitness\"])\n",
    "    df['cum_sum'] = df.Fitness.cumsum()\n",
    "    df['cum_perc'] = 100*df.cum_sum/df.Fitness.sum()\n",
    "    \n",
    "    for i in range(0, eliteSize):\n",
    "        selectionResults.append(popRanked[i][0])\n",
    "    for i in range(0, len(popRanked) - eliteSize):\n",
    "        pick = 100*random.random()\n",
    "        for i in range(0, len(popRanked)):\n",
    "            if pick <= df.iat[i,3]:\n",
    "                selectionResults.append(popRanked[i][0])\n",
    "                break\n",
    "    return selectionResults\n",
    "\n",
    "\n",
    "\n",
    "#Create mating pool\n",
    "\n",
    "def matingPool(population, selectionResults):\n",
    "    matingpool = []\n",
    "    for i in range(0, len(selectionResults)):\n",
    "        index = selectionResults[i]\n",
    "        matingpool.append(population[index])\n",
    "    return matingpool\n",
    "\n",
    "\n",
    "\n",
    "\n",
    "#Create a crossover function for two parents to create one child\n",
    "def breed(parent1, parent2):\n",
    "    child = []\n",
    "    childP1 = []\n",
    "    childP2 = []\n",
    "    \n",
    "    geneA = int(random.random() * len(parent1))\n",
    "    geneB = int(random.random() * len(parent1))\n",
    "    \n",
    "    startGene = min(geneA, geneB)\n",
    "    endGene = max(geneA, geneB)\n",
    "\n",
    "    for i in range(startGene, endGene):\n",
    "        childP1.append(parent1[i])\n",
    "        \n",
    "\n",
    "    childP2 = [item for item in parent2 if item not in childP1]\n",
    "    print(startGene, endGene)\n",
    "\n",
    "    print(parent1)\n",
    "    print(parent2)\n",
    "\n",
    "    print(childP1)\n",
    "    print(childP2)\n",
    "    child = childP1 + childP2\n",
    "\n",
    "    print(child)\n",
    "    return child\n",
    "\n",
    "#Create function to run crossover over full mating pool\n",
    "\n",
    "def breedPopulation(matingpool, eliteSize):\n",
    "    children = []\n",
    "    length = len(matingpool) - eliteSize\n",
    "    pool = random.sample(matingpool, len(matingpool))\n",
    "\n",
    "    for i in range(0,eliteSize):\n",
    "        children.append(matingpool[i])\n",
    "    \n",
    "    for i in range(0, length):\n",
    "        child = breed(pool[i], pool[len(matingpool)-i-1])\n",
    "        children.append(child)\n",
    "    return children\n",
    "\n",
    "\n",
    "\n",
    "\n",
    "#Create function to mutate a single route\n",
    "def mutate(individual, mutationRate):\n",
    "    for swapped in range(len(individual)):\n",
    "        if(random.random() < mutationRate):\n",
    "            swapWith = int(random.random() * len(individual))\n",
    "            \n",
    "            city1 = individual[swapped]\n",
    "            city2 = individual[swapWith]\n",
    "            \n",
    "            individual[swapped] = city2\n",
    "            individual[swapWith] = city1\n",
    "    return individual\n",
    "\n",
    "\n",
    "\n",
    "#Create function to run mutation over entire population\n",
    "\n",
    "def mutatePopulation(population, mutationRate):\n",
    "    mutatedPop = []\n",
    "    \n",
    "    for ind in range(0, len(population)):\n",
    "        mutatedInd = mutate(population[ind], mutationRate)\n",
    "        mutatedPop.append(mutatedInd)\n",
    "    return mutatedPop\n",
    "\n",
    "\n",
    "\n",
    "#Put all steps together to create the next generation\n",
    "\n",
    "def nextGeneration(currentGen, eliteSize, mutationRate):\n",
    "    popRanked = rankRoutes(currentGen)\n",
    "    selectionResults = selection(popRanked, eliteSize)\n",
    "    matingpool = matingPool(currentGen, selectionResults)\n",
    "    children = breedPopulation(matingpool, eliteSize)\n",
    "    nextGeneration = mutatePopulation(children, mutationRate)\n",
    "    return nextGeneration"
   ]
  },
  {
   "cell_type": "markdown",
   "metadata": {},
   "source": [
    "## El algoritmo genético\n",
    "Con todas estas funciones definidas, solo queda escribir la definición del algoritmo genético."
   ]
  },
  {
   "cell_type": "code",
   "execution_count": 5,
   "metadata": {
    "pycharm": {
     "name": "#%%\n"
    }
   },
   "outputs": [],
   "source": [
    "#Final step: create the genetic algorithm\n",
    "\n",
    "def geneticAlgorithm(population, popSize, eliteSize, mutationRate, generations):\n",
    "    pop = initialPopulation(popSize, population)\n",
    "    progress = [1 / rankRoutes(pop)[0][1]]\n",
    "    print(\"Initial distance: \" + str(progress[0]))\n",
    "    \n",
    "    for i in range(1, generations+1):\n",
    "        \n",
    "        pop = nextGeneration(pop, eliteSize, mutationRate)\n",
    "        progress.append(1 / rankRoutes(pop)[0][1])\n",
    "        if i%50==0:\n",
    "          print('Generation '+str(i),\"Distance: \",progress[i])\n",
    "        \n",
    "        \n",
    "    bestRouteIndex = rankRoutes(pop)[0][0]\n",
    "    bestRoute = pop[bestRouteIndex]\n",
    "    \n",
    "    plt.plot(progress)\n",
    "    plt.ylabel('Distance')\n",
    "    plt.xlabel('Generation')\n",
    "    plt.title('Best Fitness vs Generation')\n",
    "    plt.tight_layout()\n",
    "    plt.show()\n",
    "\n",
    "    \n",
    "    \n",
    "    return bestRoute"
   ]
  },
  {
   "cell_type": "markdown",
   "metadata": {},
   "source": [
    "## Pruebas\n",
    "Hemos creado una lista de ciudades y ejecutamos el algoritmo, esto debería devolver la mejor ruta encontrada en la última generación."
   ]
  },
  {
   "cell_type": "code",
   "execution_count": 6,
   "metadata": {
    "pycharm": {
     "name": "#%%\n"
    }
   },
   "outputs": [
    {
     "name": "stdout",
     "output_type": "stream",
     "text": [
      "Initial distance: 15957.000000000002\n",
      "1 4\n",
      "[(0), (4), (1), (2), (3)]\n",
      "[(2), (1), (4), (0), (3)]\n",
      "[(4), (1), (2)]\n",
      "[(0), (3)]\n",
      "[(4), (1), (2), (0), (3)]\n",
      "4 4\n",
      "[(4), (0), (3), (2), (1)]\n",
      "[(1), (2), (3), (4), (0)]\n",
      "[]\n",
      "[(1), (2), (3), (4), (0)]\n",
      "[(1), (2), (3), (4), (0)]\n",
      "2 4\n",
      "[(3), (2), (4), (1), (0)]\n",
      "[(1), (4), (0), (2), (3)]\n",
      "[(4), (1)]\n",
      "[(0), (2), (3)]\n",
      "[(4), (1), (0), (2), (3)]\n",
      "3 4\n",
      "[(1), (4), (0), (2), (3)]\n",
      "[(3), (2), (4), (1), (0)]\n",
      "[(2)]\n",
      "[(3), (4), (1), (0)]\n",
      "[(2), (3), (4), (1), (0)]\n",
      "0 1\n",
      "[(2), (0), (4), (3), (1)]\n",
      "[(4), (1), (3), (2), (0)]\n",
      "[(2)]\n",
      "[(4), (1), (3), (0)]\n",
      "[(2), (4), (1), (3), (0)]\n",
      "2 3\n",
      "[(3), (4), (0), (1), (2)]\n",
      "[(0), (4), (1), (2), (3)]\n",
      "[(0)]\n",
      "[(4), (1), (2), (3)]\n",
      "[(0), (4), (1), (2), (3)]\n",
      "2 3\n",
      "[(1), (4), (2), (0), (3)]\n",
      "[(0), (3), (1), (4), (2)]\n",
      "[(2)]\n",
      "[(0), (3), (1), (4)]\n",
      "[(2), (0), (3), (1), (4)]\n",
      "1 2\n",
      "[(4), (1), (2), (0), (3)]\n",
      "[(4), (3), (2), (0), (1)]\n",
      "[(1)]\n",
      "[(4), (3), (2), (0)]\n",
      "[(1), (4), (3), (2), (0)]\n",
      "0 2\n",
      "[(4), (0), (3), (2), (1)]\n",
      "[(3), (1), (2), (4), (0)]\n",
      "[(4), (0)]\n",
      "[(3), (1), (2)]\n",
      "[(4), (0), (3), (1), (2)]\n",
      "1 1\n",
      "[(4), (3), (2), (0), (1)]\n",
      "[(1), (3), (2), (0), (4)]\n",
      "[]\n",
      "[(1), (3), (2), (0), (4)]\n",
      "[(1), (3), (2), (0), (4)]\n"
     ]
    },
    {
     "data": {
      "image/png": "[encoded data removed]",
      "text/plain": [
       "<Figure size 432x288 with 1 Axes>"
      ]
     },
     "metadata": {
      "needs_background": "light"
     },
     "output_type": "display_data"
    },
    {
     "data": {
      "image/png": "[encoded data removed]",
      "text/plain": [
       "<Figure size 432x288 with 1 Axes>"
      ]
     },
     "metadata": {
      "needs_background": "light"
     },
     "output_type": "display_data"
    }
   ],
   "source": [
    "#Running the genetic algorithm\n",
    "#Create list of cities\n",
    "\n",
    "cityList = []\n",
    "\n",
    "for i in range(0,5):\n",
    "    cityList.append(City(name = i, x=int(random.random() * 200), y=int(random.random() * 200)))\n",
    "\n",
    "\n",
    "best_route=geneticAlgorithm(population=cityList, popSize=30, eliteSize=20, mutationRate=0.01, generations=1)\n",
    "x=[]\n",
    "y=[]\n",
    "for i in best_route:\n",
    "  x.append(i.x)\n",
    "  y.append(i.y)\n",
    "x.append(best_route[0].x)\n",
    "y.append(best_route[0].y)\n",
    "plt.plot(x, y, '--o')\n",
    "plt.xlabel('X')\n",
    "plt.ylabel('Y')\n",
    "ax=plt.gca()\n",
    "plt.title('Final Route Layout')\n",
    "bbox_props = dict(boxstyle=\"circle,pad=0.3\", fc='C0', ec=\"black\", lw=0.5)\n",
    "for i in range(1,len(cityList)+1):\n",
    "  ax.text(cityList[i-1].x, cityList[i-1].y, str(i), ha=\"center\", va=\"center\",\n",
    "            size=8,\n",
    "            bbox=bbox_props)\n",
    "plt.tight_layout()\n",
    "plt.show()"
   ]
  },
  {
   "cell_type": "markdown",
   "metadata": {
    "pycharm": {
     "name": "#%% md\n"
    }
   },
   "source": [
    "## Bibliografía\n",
    "\n",
    "[1] [Uso indiscriminado de pesticidas amenaza a las abejas](https://www.scidev.net/america-latina/medio-ambiente/especial/uso-indiscriminado-de-pesticidas-amenaza-a-las-abejas.html)\n",
    "\n",
    "\n"
   ]
  },
  {
   "cell_type": "code",
   "execution_count": 6,
   "metadata": {
    "pycharm": {
     "name": "#%%\n"
    }
   },
   "outputs": [],
   "source": []
  },
  {
   "cell_type": "code",
   "execution_count": 6,
   "metadata": {},
   "outputs": [],
   "source": []
  }
 ],
 "metadata": {
  "kernelspec": {
   "display_name": "Python 3",
   "language": "python",
   "name": "python3"
  },
  "language_info": {
   "codemirror_mode": {
    "name": "ipython",
    "version": 3
   },
   "file_extension": ".py",
   "mimetype": "text/x-python",
   "name": "python",
   "nbconvert_exporter": "python",
   "pygments_lexer": "ipython3",
   "version": "3.7.6"
  }
 },
 "nbformat": 4,
 "nbformat_minor": 1
}
