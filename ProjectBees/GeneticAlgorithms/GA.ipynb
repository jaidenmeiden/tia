{
 "cells": [
  {
   "cell_type": "markdown",
   "metadata": {},
   "source": [
    " # Algoritmo genético\n",
    "\n",
    "Los algoritmos genéticos funcionan iterando sobre generaciones de poblaciones y evaluando qué tan bien estas poblaciones resuelven un problema. Al final de la generación, se seleccionan los mejores individuos para producir la próxima generación."
   ]
  },
  {
   "cell_type": "markdown",
   "metadata": {},
   "source": [
    "## Abejas vs Pesticidas\n",
    " \n",
    "El uso excesivo de agroquímicos en los campos está comprometiendo el futuro de las abejas, desencadenando consecuencias que pueden ir más allá de los aspectos ambientales pues estos insectos polinizan los principales cultivos del mundo. Se estima que el 75 por ciento de la alimentación humana depende directa o indirectamente de la acción de los insectos polinizadores.\n",
    "\n",
    "### Conceptualización\n",
    "\n",
    "Un pesticida es un compuesto químico que tiene la importancia para el control de plagas en la agricultura. Debido a lo anterior los pesticidas no solamente matan plagas de insectos que afectan los cultivos, sino que también poblaciones de abejas melíferas, las cuales benefician el medio ambiente.\n",
    "\n",
    "Las abejas son los mayores polinizadores de muchas plantas silvestres y monocultivo. Motivo por el cual, su población es fundamental para la productividad agrícola mundial y es evidente que las alteraciones en sus poblaciones podrían derivar en significativas pérdidas económicas.\n",
    "\n",
    "La situación actual de las abejas es preocupante, debido a que el censo poblacional ha disminuido drásticamente por el uso extensivo de pesticidas en monocultivos tecnificados que buscan potenciar el rendimiento de la producción.\n",
    "\n",
    "Los pesticidas son sustancias producidas de forma natural o industrial para destruir organismos potencialmente perjudiciales para las plantas cultivadas y/o animales de producción. Así mismo, se clasifican de acuerdo con el tipo de peste que controlan en: insecticidas (contra insectos), herbicidas (flora arvense), rodenticidas (roedores), bactericidas (bacterias), fungicidas (hongos) y larvicidas (larvas).\n",
    "\n",
    "Estas sustancias pueden ser tóxicas a su vez para las especies que comparten el sitio de fumigación y, dependiendo de la dosificación, pueden tener una acción letal o subletal; a la par, permanecer residualmente en el medio ambiente.\n",
    "\n",
    "### Planteamiento\n",
    "\n",
    "Con base a lo anterior un pesticida contempla tres propiedades inherentes, las cuales son composición, forma de aplicación y residualidad:\n",
    "\n",
    "**Composición:** Está compuesto por varios químicos incluyendo un ingrediente activo que es el químico que mata, controla o repele plagas.\n",
    "\n",
    "**Exposición:** La exposición de las abejas se puede presentar por contacto, por alimentación o por las dos situaciones combinadas.\n",
    "\n",
    "**Aplicación:** Las formas de aplicación de los pesticidas con sus respectivas características, son espolvoreo, pulverización, fumigación, aplicación de cebos, tratamientos vía riego y aplicación en el suelo.\n",
    "\n",
    "**Residuality:** La residualidad del pesticida es un resultado de diversos factores, como la forma y sitio de aplicación, dosis, grado de infestación de la plaga y nivel de control o riesgo, exposición a microorganismos y materia orgánica.\n",
    "\n",
    "Teniendo en cuenta las características mencionadas de los pesticidas, se desea saber cómo deben combinarse estas cuatro características para saber el grado de toxicidad potencial del pesticida y así minimizar la tasa de mortalidad de las poblaciones de abejas melíferas. Para llegar a este resultado hay que tener presente que:\n",
    "\n",
    "* El porcentaje de ingrediente activo en el compuesto puede ser variable.\n",
    "* Algunos pesticidas son: Corrosivos, irritantes, inflamables o explosivos.\n",
    "* La forma de aplicación puede ser cualquiera de las mencionadas anteriormente.\n",
    "* La residualidad  depende de las condiciones de la aplicación.\n",
    "* La exposición de las abejas a los pesticidas puede ser por contacto, alimentación o ambas.\n",
    "* El grado de toxicidad potencial del ingrediente activo puede ser: De baja peligrosidad, nocivo, toxico, muy tóxico.\n",
    "\n",
    "La idea es que el modelo se pueda aplicar para cualquier combinación de cultivo-plaga\n"
   ]
  },
  {
   "cell_type": "markdown",
   "metadata": {},
   "source": [
    "# Librerías"
   ]
  },
  {
   "cell_type": "code",
   "execution_count": 191,
   "metadata": {
    "pycharm": {
     "name": "#%%\n"
    }
   },
   "outputs": [],
   "source": [
    "import numpy as np\n",
    "import random\n",
    "import operator\n",
    "import pandas as pd\n",
    "import matplotlib.pyplot as plt"
   ]
  },
  {
   "cell_type": "markdown",
   "metadata": {},
   "source": [
    "# Representación de los datos\n",
    "\n",
    "Los **cromosomas** del individuo para encontrar una posible solución al problema de las Abejas vs Pesticidas, estan representados pos las siguientes clases:\n",
    "\n",
    "* Cromosoma **Ingrediente** define el ingrediente activo utilizado para un determinado cultivo (Lista de posibles ingredientes activos utilizados para un determinado cultivo) presente en el compuesto y respectiva clasificación (Corrosivo, irritante, inflamable o explosivo).\n",
    "* Cromosoma **Exposicion** define si la exposición que presentan las abejas mielíferas al ingreduente activo es por contacto, alimentación o ambas. \n",
    "* Cromosoma **Aplicacion** define la forma en la que es aplicado el pesticida en el cultivo (espolvoreo, pulverización, fumigación, aplicación de cebos, tratamientos vía riego y aplicación en el suelo)\n",
    "* Cromosoma **Residualidad** define el tiempo en días que el ingrediente activo esta presente en el ecosistema\n",
    "\n",
    "Cada uno de los **individuos** del algoritmo genético esta representado por la clase **Combinacion**, la cual es la unión de las clases anteriormente mencionadas más el porcentaje de concentración del ingrediente activo:\n",
    "\n",
    "* Clase **Compuesto** define el nombre del ingrediente activo presente en el compuesto"
   ]
  },
  {
   "cell_type": "code",
   "execution_count": 192,
   "metadata": {
    "pycharm": {
     "name": "#%%\n"
    }
   },
   "outputs": [],
   "source": [
    "class Ingrediente:\n",
    "    def __init__(self, ingrediente = None, clasificacion = []):\n",
    "        self.ingrediente = ingrediente\n",
    "        self.clasificacion = clasificacion\n",
    "\n",
    "class Exposicion:\n",
    "    def __init__(self, forma = None):\n",
    "        self.forma = forma\n",
    "\n",
    "class Aplicacion:\n",
    "    def __init__(self, tipo = None):\n",
    "        self.tipo = tipo\n",
    "\n",
    "class Residualidad:\n",
    "    def __init__(self, tiempo = None):\n",
    "        self.tiempo = tiempo\n",
    "\n",
    "class Combinacion:\n",
    "    def __init__(self, concentracion, ingrediente = Ingrediente(), exposicion = Exposicion(), aplicacion = Aplicacion(), residualidad = Residualidad()):\n",
    "        self.concentracion = concentracion\n",
    "        self.exposicion = exposicion\n",
    "        self.ingrediente = ingrediente\n",
    "        self.aplicacion = aplicacion\n",
    "        self.residualidad = residualidad  "
   ]
  },
  {
   "cell_type": "markdown",
   "metadata": {},
   "source": [
    "# ¿Cual es el problema a resolver?"
   ]
  },
  {
   "cell_type": "markdown",
   "metadata": {},
   "source": [
    "El objetivo es calcular la toxicidad potencial de cada individuo por la combinación de la concentración de un ingrediente activo específico, la forma de exposición, el tipo de aplicación y la residualidad  para cualquier cultivo en el cual se aplique algún tipo de pesticida, vamos a simular un caso particular para un cultivo dado, aplicando varios posibles pesticidas especializados en el cultivo seleccionado."
   ]
  },
  {
   "cell_type": "markdown",
   "metadata": {},
   "source": [
    "## Problema"
   ]
  },
  {
   "cell_type": "markdown",
   "metadata": {},
   "source": [
    "La simulación "
   ]
  },
  {
   "cell_type": "code",
   "execution_count": 193,
   "metadata": {},
   "outputs": [],
   "source": [
    "clasificacion = {\n",
    "  1: 1, # Corrosivo\n",
    "  2: 2, # Irritante\n",
    "  3: 3, # Inflamable\n",
    "  4: 4 # Explosivo\n",
    "}\n",
    "\n",
    "exposicion = {\n",
    "  1: 1, # Contacto\n",
    "  2: 2, # Alimentación\n",
    "  3: 3 # Ambas\n",
    "}\n",
    "\n",
    "aplicacion = {\n",
    "  1: 1, # Espolvoreo\n",
    "  2: 2, # Contactopulverización\n",
    "  3: 3, # Fumigación\n",
    "  4: 4, # Aplicación de cebos\n",
    "  5: 5, # Tratamientos vía riego\n",
    "  6: 6 # Aplicación en el suelo\n",
    "}\n",
    "\n",
    "residualidad = {}\n",
    "for i in range(1,90):\n",
    "    residualidad[i] = i"
   ]
  },
  {
   "cell_type": "markdown",
   "metadata": {},
   "source": [
    "## Aptitud\n",
    "Para este caso, la aptitud de un individuo es el calculo de la toxicidad del mismo que esta dado por la combinación de la concentración de un ingrediente activo específico, la forma de exposición, el tipo de aplicación y la residualidad como se menciono anteriormente y dicha aptitud esta dada por la formula:\n",
    "\n",
    ">$Aptitud=RC+[\\sum_{i=1}^{N} RCI(Valor_{i})]+[\\sum_{i=1}^{N} RFE(Valor_{i})]+[\\sum_{i=1}^{N} RFA(Valor_{i})]+[\\sum_{i=1}^{N} RTR(Valor_{i})]$\n",
    "\n",
    ">$RC = 1/(1,1 - concentración)$"
   ]
  },
  {
   "cell_type": "markdown",
   "metadata": {},
   "source": [
    "### Descripción\n",
    "\n",
    ">**RC** = Riesgo por concentración \n",
    "\n",
    ">**RCI** = Riesgo por clasificación del ingrediente activo\n",
    "\n",
    ">**RFE** = Riesgo por forma de exposición\n",
    "\n",
    ">**RFA** = Riesgo por forma de aplicación\n",
    "\n",
    ">**RTR** = Riesgo por tiempo de residualidad"
   ]
  },
  {
   "cell_type": "markdown",
   "metadata": {},
   "source": [
    "Ya que  es importante definir una función de aptitud común para todos los individuos, está formula fue construida con base a la **tabla 1**. La función hace el sumatorio de puntos de riesgo acumulados por cada uno de los individuos y calcula la inversa de para definir la toxicidad potencial de cada individuo."
   ]
  },
  {
   "cell_type": "code",
   "execution_count": 194,
   "metadata": {
    "pycharm": {
     "name": "#%%\n"
    }
   },
   "outputs": [],
   "source": [
    "class Aptitud:\n",
    "    def __init__(self, combinacion):\n",
    "        self.combinacion = combinacion\n",
    "        self.riesgo = 0\n",
    "        self.aptitud= 0.0\n",
    "    \n",
    "    def sumaAptitud(self):\n",
    "        suma = 1/ (1.1 - self.combinacion.concentracion)\n",
    "        if self.combinacion.ingrediente.clasificacion in clasificacion:\n",
    "            suma = suma + clasificacion[self.combinacion.ingrediente.clasificacion]\n",
    "        if self.combinacion.exposicion.forma in exposicion:\n",
    "            suma = suma + exposicion[self.combinacion.exposicion.forma]\n",
    "        if self.combinacion.aplicacion.tipo in aplicacion:\n",
    "            suma = suma + aplicacion[self.combinacion.aplicacion.tipo]\n",
    "        if self.combinacion.residualidad.tiempo in residualidad:\n",
    "            suma = suma + residualidad[self.combinacion.residualidad.tiempo]\n",
    "        self.riesgo = suma\n",
    "        return self.riesgo\n",
    "    \n",
    "    def calculoAptitud(self):\n",
    "        self.aptitud = 1 / float(self.sumaAptitud())\n",
    "        return self.aptitud"
   ]
  },
  {
   "cell_type": "markdown",
   "metadata": {},
   "source": [
    "## Mutación y reproducción\n",
    "El algoritmo crea las próximas generaciones utilizando dos métodos, ya sea mutando individuos individuales según una probabilidad, o \"apareando\" dos individuos para crear uno nuevo. Aquí definimos todas las funciones necesarias para realizar el algoritmo."
   ]
  },
  {
   "cell_type": "code",
   "execution_count": 195,
   "metadata": {
    "pycharm": {
     "name": "#%%\n"
    }
   },
   "outputs": [],
   "source": [
    "#Creamos la población inicial de forma aleatoría.\n",
    "def poblacionInicial(cantidad):\n",
    "    poblacion = []\n",
    "    for i in range(0,cantidad):\n",
    "        poblacion.append(Combinacion(\n",
    "            concentracion=random.random(),\n",
    "            ingrediente=Ingrediente(\"Ingrediente activo \" + str(i + 1), random.randint(1, 4)),\n",
    "            exposicion=Exposicion(random.randint(1, 3)),\n",
    "            aplicacion=Aplicacion(random.randint(1, 6)),\n",
    "            residualidad=Residualidad(random.randint(1, 90))\n",
    "            )\n",
    "        )\n",
    "    return poblacion\n",
    "\n",
    "#Ordena la población deacuerdo a su aptitud\n",
    "def organizarAptitudes(poblacion):\n",
    "    aptitudes = {}\n",
    "    for i in range(0,len(poblacion)):\n",
    "        aptitudes[i] = Aptitud(poblacion[i]).calculoAptitud()\n",
    "    aptitudes_ordenadas=sorted(aptitudes.items(), key = operator.itemgetter(1), reverse = True)\n",
    "    return aptitudes_ordenadas\n",
    "\n",
    "#Creamos la función de selección\n",
    "def seleccion(aptitudesOrdenadas, seleccionElitista):\n",
    "    resultados = []\n",
    "    df = pd.DataFrame(np.array(aptitudesOrdenadas), columns=[\"Index\",\"Aptitud\"])\n",
    "    df['suma'] = df.Aptitud.cumsum()\n",
    "    df['pareto'] = 100*df.suma/df.Aptitud.sum()\n",
    "    \n",
    "    for i in range(0, seleccionElitista):\n",
    "        resultados.append(aptitudesOrdenadas[i][0])\n",
    "    for i in range(0, len(aptitudesOrdenadas) - seleccionElitista):\n",
    "        pick = 100*random.random()\n",
    "        for i in range(0, len(aptitudesOrdenadas)):\n",
    "            if pick <= df.iat[i,3]:\n",
    "                resultados.append(aptitudesOrdenadas[i][0])\n",
    "                break\n",
    "    return resultados\n",
    "\n",
    "#Crear vector de apareamiento\n",
    "def apareamiento(poblacion, seleccionados):\n",
    "    aparear = []\n",
    "    for i in range(0, len(seleccionados)):\n",
    "        index = seleccionados[i]\n",
    "        aparear.append(poblacion[index])\n",
    "    return aparear\n",
    "\n",
    "#Crea dos hijos a partir de dos padres\n",
    "def cruce(padre1, padre2, tasaCruce):\n",
    "    hijos = []\n",
    "    hijo = Combinacion(\n",
    "            concentracion=padre1.concentracion,\n",
    "            ingrediente=padre1.ingrediente,\n",
    "            exposicion=padre1.exposicion,\n",
    "            aplicacion=padre1.aplicacion,\n",
    "            residualidad=padre1.residualidad\n",
    "            )\n",
    "    if random.random() < tasaCruce:\n",
    "        hijo.concentracion = padre2.concentracion\n",
    "    if random.random() < tasaCruce:\n",
    "        hijo.ingrediente.clasificacion = padre2.ingrediente.clasificacion\n",
    "    if random.random() < tasaCruce:\n",
    "        hijo.exposicion.forma = padre2.exposicion.forma\n",
    "    if random.random() < tasaCruce:\n",
    "        hijo.aplicacion.tipo = padre2.aplicacion.tipo\n",
    "    if random.random() < tasaCruce:\n",
    "        hijo.residualidad.tiempo = padre2.residualidad.tiempo\n",
    "\n",
    "    hijos.append(hijo)\n",
    "    return hijos\n",
    "\n",
    "#Crear función para cruzar toda la población\n",
    "def cruzarPoblacion(aparear, seleccionElitista, tasaCruce):\n",
    "    hijos = []\n",
    "    length = len(aparear) - seleccionElitista\n",
    "    pool = random.sample(aparear, len(aparear))\n",
    "    for i in range(0,seleccionElitista):\n",
    "        hijos.append(aparear[i])\n",
    "\n",
    "    for i in range(0, length):\n",
    "        child = cruce(pool[i], pool[len(aparear)-i-1], tasaCruce)\n",
    "        hijos.append(child[0])\n",
    "    return hijos\n",
    "\n",
    "#Crea función de mutación\n",
    "def mutacion(individuo, tasaMutacion):\n",
    "    if random.random() < tasaMutacion:\n",
    "        individuo.concentracion = random.random()\n",
    "    if random.random() < tasaMutacion:\n",
    "        individuo.ingrediente.clasificacion = random.randint(1, 4)\n",
    "    if random.random() < tasaMutacion:\n",
    "        individuo.exposicion.forma = random.randint(1, 3)\n",
    "    if random.random() < tasaMutacion:\n",
    "        individuo.aplicacion.tipo = random.randint(1, 6)\n",
    "    if random.random() < tasaMutacion:\n",
    "        individuo.residualidad.tiempo = random.randint(1, 90)\n",
    "    return individuo\n",
    "\n",
    "#Mutamos toda la población\n",
    "def mutarPoblacion(poblacion, tasaMutacion):\n",
    "    mutados = []\n",
    "    for i in range(0, len(poblacion)):\n",
    "        modificado = mutacion(poblacion[i], tasaMutacion)\n",
    "        mutados.append(modificado)\n",
    "    return mutados\n",
    "\n",
    "#Crea una nueva generación\n",
    "def nuevaGeneracion(generacionActual, seleccionElitista, tasaMutacion, tasaCruce):\n",
    "    aptitudesOrdenadas = organizarAptitudes(generacionActual)\n",
    "    seleccionados = seleccion(aptitudesOrdenadas, seleccionElitista)\n",
    "    aparear = apareamiento(generacionActual, seleccionados)\n",
    "    children = cruzarPoblacion(aparear, seleccionElitista, tasaCruce)\n",
    "    cruce = mutarPoblacion(children, tasaMutacion)\n",
    "    return cruce"
   ]
  },
  {
   "cell_type": "markdown",
   "metadata": {},
   "source": [
    "## El algoritmo genético\n",
    "Programamos el algoritmo genético con las funciones previas."
   ]
  },
  {
   "cell_type": "code",
   "execution_count": 196,
   "metadata": {
    "pycharm": {
     "name": "#%%\n"
    }
   },
   "outputs": [],
   "source": [
    "def algoritmo(poblacion, seleccionElitista, tasaMutacion, tasaCruce, generaciones):\n",
    "    progress = [1 / organizarAptitudes(poblacion)[0][1]]\n",
    "    print('Generación 0',\"Riesgo: \",progress[0])\n",
    "\n",
    "    nuevaPoblacion = poblacion\n",
    "    for i in range(1, generaciones+1):\n",
    "        #print(\"Generación: \" + str(len(nuevaPoblacion)))\n",
    "        nuevaPoblacion = nuevaGeneracion(nuevaPoblacion, seleccionElitista, tasaMutacion, tasaCruce)\n",
    "        progress.append(1 / organizarAptitudes(nuevaPoblacion)[0][1])\n",
    "        if i%50==0:\n",
    "          print('Generación '+str(i),\"Riesgo: \",progress[i])\n",
    "        \n",
    "    mejorIndividuoIndex = organizarAptitudes(nuevaPoblacion)[0][0]\n",
    "    mejorIndividuo = nuevaPoblacion[mejorIndividuoIndex]\n",
    "    \n",
    "    plt.plot(progress)\n",
    "    plt.ylabel('Riesgo')\n",
    "    plt.xlabel('Generación')\n",
    "    plt.title('Mejor aptitud vs Generación')\n",
    "    plt.tight_layout()\n",
    "    plt.show()\n",
    "\n",
    "    \n",
    "    \n",
    "    return mejorIndividuo"
   ]
  },
  {
   "cell_type": "markdown",
   "metadata": {},
   "source": [
    "## Pruebas\n",
    "Realizamos las pruebas del algoritmo genetico previamente programado."
   ]
  },
  {
   "cell_type": "code",
   "execution_count": 197,
   "metadata": {
    "pycharm": {
     "name": "#%%\n"
    }
   },
   "outputs": [
    {
     "name": "stdout",
     "output_type": "stream",
     "text": [
      "Generación 0 Riesgo:  9.209769232610357\n",
      "Generación 50 Riesgo:  36.90985253792761\n",
      "Generación 100 Riesgo:  94.90985253792762\n",
      "Generación 150 Riesgo:  25.909852537927613\n",
      "Generación 200 Riesgo:  46.90939010306084\n",
      "Generación 250 Riesgo:  35.90928902315788\n",
      "Generación 300 Riesgo:  34.90928902315788\n",
      "Generación 350 Riesgo:  67.90928902315788\n",
      "Generación 400 Riesgo:  22.909226809814832\n",
      "Generación 450 Riesgo:  74.90917074127321\n",
      "Generación 500 Riesgo:  27.909170741273215\n",
      "Generación 550 Riesgo:  95.90917074127321\n",
      "Generación 600 Riesgo:  50.90914573959377\n",
      "Generación 650 Riesgo:  73.90914573959377\n",
      "Generación 700 Riesgo:  21.909145739593768\n",
      "Generación 750 Riesgo:  46.909137188573425\n",
      "Generación 800 Riesgo:  57.90913718857342\n",
      "Generación 850 Riesgo:  32.909137188573425\n",
      "Generación 900 Riesgo:  93.90913718857342\n",
      "Generación 950 Riesgo:  61.90913718857343\n",
      "Generación 1000 Riesgo:  95.90913718857341\n"
     ]
    },
    {
     "data": {
      "image/png": "[encoded data removed]",
      "text/plain": [
       "<Figure size 432x288 with 1 Axes>"
      ]
     },
     "metadata": {
      "needs_background": "light"
     },
     "output_type": "display_data"
    },
    {
     "name": "stdout",
     "output_type": "stream",
     "text": [
      "****************** Solución *************************\n",
      "5.5995323267166164e-05\n",
      "4\n",
      "1\n",
      "6\n",
      "84\n"
     ]
    }
   ],
   "source": [
    "inicial=poblacionInicial(100)\n",
    "solucion=algoritmo(poblacion=inicial, seleccionElitista=20, tasaMutacion=0.5, tasaCruce=0.5, generaciones=1000)\n",
    "print(\"****************** Solución *************************\")\n",
    "print(solucion.concentracion)\n",
    "print(solucion.ingrediente.clasificacion)\n",
    "print(solucion.exposicion.forma)\n",
    "print(solucion.aplicacion.tipo)\n",
    "print(solucion.residualidad.tiempo)"
   ]
  },
  {
   "cell_type": "markdown",
   "metadata": {
    "pycharm": {
     "name": "#%% md\n"
    }
   },
   "source": [
    "## Investigaciones y Artículos\n",
    "\n",
    "[1] [Guía de Evaluación de Riesgos de Plaguicidas para las Abejas](https://espanol.epa.gov/sites/production-es/files/2017-12/documents/120517_guia_de_evaluacion_de_riesgos_de_plaguicidas_para_las_abejas_update.pdf)\n",
    "\n",
    "[2] [Abejas y Agrotóxicos](https://www.apiservices.biz/documents/articulos-es/abejas_y_agrotoxicos.pdf)\n",
    "\n",
    "[3] [Los plaguicidas, adsorción y evolución en el suelo](https://digital.csic.es/bitstream/10261/12919/1/plaguicidas.pdf%3B)\n",
    "\n",
    "[4] [Calculo de la toxicidad potencial de los plaguicidas](https://www.tdx.cat/bitstream/handle/10803/6827/06CAPITOL5.pdf?sequence=6&isAllowed=y)\n",
    "\n",
    "[5] [Desarrollo de métodos para la reducción de la contaminación por plaguicidas en aguas subterráneas mediante la adición de residuos orgánicos a los suelos](https://idus.us.es/bitstream/handle/11441/41630/Tesis%20completa%20(enviar).pdf)\n",
    "\n",
    "[6] [Daño colateral en abejas por la exposición a pesticidas de uso agrícola](http://www.scielo.org.co/pdf/entra/v14n1/1900-3803-entra-14-01-232.pdf)\n",
    "\n",
    "[7] [Insecticidas más tóxico para las abejas ¿Por qué?](https://agriculturers.com/insecticidas-mas-toxico-para-las-abejas-por-que/)\n",
    "\n",
    "[8] [Residualidad de un herbicida](https://www.rainbowconosur.com/uy/detalle-de-residualidad-de-un-herbicida-194)\n",
    "\n"
   ]
  },
  {
   "cell_type": "code",
   "execution_count": null,
   "metadata": {
    "pycharm": {
     "name": "#%%\n"
    }
   },
   "outputs": [],
   "source": []
  },
  {
   "cell_type": "code",
   "execution_count": null,
   "metadata": {},
   "outputs": [],
   "source": []
  }
 ],
 "metadata": {
  "kernelspec": {
   "display_name": "Python 3",
   "language": "python",
   "name": "python3"
  },
  "language_info": {
   "codemirror_mode": {
    "name": "ipython",
    "version": 3
   },
   "file_extension": ".py",
   "mimetype": "text/x-python",
   "name": "python",
   "nbconvert_exporter": "python",
   "pygments_lexer": "ipython3",
   "version": "3.7.6"
  }
 },
 "nbformat": 4,
 "nbformat_minor": 1
}