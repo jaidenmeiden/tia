{
 "cells": [
  {
   "cell_type": "markdown",
   "metadata": {
    "collapsed": true,
    "pycharm": {
     "name": "#%% md\n"
    }
   },
   "source": [
    "# Introduction\n",
    "\n",
    "Genetic algorithms work by iterating over generations of populations and evaluation how well these population solve a problem. At the end of generation, the best individuals are selected to produce the next generation"
   ]
  },
  {
   "cell_type": "markdown",
   "metadata": {},
   "source": [
    "## Problem\n",
    "\n",
    "The travelling salesman problem (also called the traveling salesperson problem[1] or TSP) asks the following question: \"Given a list of cities and the distances between each pair of cities, what is the shortest possible route that visits each city exactly once and returns to the origin city?\" It is an NP-hard problem in combinatorial optimization, important in theoretical computer science and operations research."
   ]
  },
  {
   "cell_type": "markdown",
   "metadata": {},
   "source": [
    "# Imports"
   ]
  },
  {
   "cell_type": "code",
   "execution_count": 1,
   "metadata": {
    "pycharm": {
     "name": "#%%\n"
    }
   },
   "outputs": [],
   "source": [
    "import numpy as np\n",
    "import random\n",
    "import operator\n",
    "import pandas as pd\n",
    "import matplotlib.pyplot as plt"
   ]
  },
  {
   "cell_type": "markdown",
   "metadata": {},
   "source": [
    "# Data representations\n",
    "\n",
    "Because we are going to work with the simplest form of the TSP, we need a way to represent the data:"
   ]
  },
  {
   "cell_type": "code",
   "execution_count": 2,
   "metadata": {
    "pycharm": {
     "name": "#%%\n"
    }
   },
   "outputs": [],
   "source": [
    "class City:\n",
    "    def __init__(self, name, x, y):\n",
    "        self.name = name\n",
    "        self.x = x\n",
    "        self.y = y\n",
    "\n",
    "    def distance(self, city):\n",
    "        xDis = abs(self.x - city.x)\n",
    "        yDis = abs(self.y - city.y)\n",
    "        distance = np.sqrt((xDis ** 2) * (yDis ** 2))\n",
    "        return distance\n",
    "\n",
    "    def __repr__(self):\n",
    "        return \"(\" + str(self.name) + \")\""
   ]
  },
  {
   "cell_type": "markdown",
   "metadata": {},
   "source": [
    "# How the algorithm works?"
   ]
  },
  {
   "cell_type": "markdown",
   "metadata": {},
   "source": [
    "## The concept of individual\n",
    "An individual can be seen as a single instance of the problem, for this case it's easy to see that the individual is the sequence of \"cities\" and the order that they are visited."
   ]
  },
  {
   "cell_type": "markdown",
   "metadata": {},
   "source": [
    "## Fitness\n",
    "Genetic algorithms mimic natural structures using the idea of \"Survival of the fittest\", so it's important to define a common fitness function for all individuals. For this case, the fitness of an individual is the sum of the distance for each pair of consecutive cities, including the sum of the last city in the sequence and the first (because TSP forms a loop).\n",
    ">$Fitness=[\\sum_{i=1}^{N-1} Distance(City_{i},City_{i+1})]+Distance(City_{N},City_{1})$\n",
    "\n",
    "This \"Distance\" function is just the euclidean distance between each city."
   ]
  },
  {
   "cell_type": "code",
   "execution_count": 3,
   "metadata": {},
   "outputs": [],
   "source": [
    "#Create a fitness function\n",
    "\n",
    "class Fitness:\n",
    "    def __init__(self, route):\n",
    "        self.route = route\n",
    "        self.distance = 0\n",
    "        self.fitness= 0.0\n",
    "    \n",
    "    def routeDistance(self):\n",
    "        if self.distance ==0:\n",
    "            pathDistance = 0\n",
    "            for i in range(0, len(self.route)):\n",
    "                fromCity = self.route[i]\n",
    "                toCity = None\n",
    "                if i + 1 < len(self.route):\n",
    "                    toCity = self.route[i + 1]\n",
    "                else:\n",
    "                    toCity = self.route[0]\n",
    "                pathDistance += fromCity.distance(toCity)\n",
    "            self.distance = pathDistance\n",
    "        return self.distance\n",
    "    \n",
    "    def routeFitness(self):\n",
    "        if self.fitness == 0:\n",
    "            self.fitness = 1 / float(self.routeDistance())\n",
    "        return self.fitness"
   ]
  },
  {
   "cell_type": "markdown",
   "metadata": {},
   "source": [
    "## Mutation and Breeding\n",
    "The algorithm creates the next generations using two methods, either mutating single individuals based on a probability, or \"mating\" two individual to create a new one. Here we define all necesarry functions to perform the algorithm."
   ]
  },
  {
   "cell_type": "code",
   "execution_count": 4,
   "metadata": {},
   "outputs": [],
   "source": [
    "#Create our initial population\n",
    "#Route generator\n",
    "#This method randomizes the order of the cities, this mean that this method creates a random individual.\n",
    "def createRoute(cityList):\n",
    "    route = random.sample(cityList, len(cityList))\n",
    "    return route\n",
    "\n",
    "\n",
    "#Create first \"population\" (list of routes)\n",
    "#This method created a random population of the specified size.\n",
    "\n",
    "def initialPopulation(popSize, cityList):\n",
    "    population = []\n",
    "\n",
    "    for i in range(0, popSize):\n",
    "        population.append(createRoute(cityList))\n",
    "    return population\n",
    "\n",
    "\n",
    "#Create the genetic algorithm\n",
    "#Rank individuals\n",
    "#This function takes a population and orders it in descending order using the fitness of each individual\n",
    "def rankRoutes(population):\n",
    "    fitnessResults = {}\n",
    "    for i in range(0,len(population)):\n",
    "        fitnessResults[i] = Fitness(population[i]).routeFitness()\n",
    "    sorted_results=sorted(fitnessResults.items(), key = operator.itemgetter(1), reverse = True)\n",
    "    return sorted_results\n",
    "\n",
    "\n",
    "\n",
    "#Create a selection function that will be used to make the list of parent routes\n",
    "\n",
    "def selection(popRanked, eliteSize):\n",
    "    selectionResults = []\n",
    "    df = pd.DataFrame(np.array(popRanked), columns=[\"Index\",\"Fitness\"])\n",
    "    df['cum_sum'] = df.Fitness.cumsum()\n",
    "    df['cum_perc'] = 100*df.cum_sum/df.Fitness.sum()\n",
    "    \n",
    "    for i in range(0, eliteSize):\n",
    "        selectionResults.append(popRanked[i][0])\n",
    "    for i in range(0, len(popRanked) - eliteSize):\n",
    "        pick = 100*random.random()\n",
    "        for i in range(0, len(popRanked)):\n",
    "            if pick <= df.iat[i,3]:\n",
    "                selectionResults.append(popRanked[i][0])\n",
    "                break\n",
    "    return selectionResults\n",
    "\n",
    "\n",
    "\n",
    "#Create mating pool\n",
    "\n",
    "def matingPool(population, selectionResults):\n",
    "    matingpool = []\n",
    "    for i in range(0, len(selectionResults)):\n",
    "        index = selectionResults[i]\n",
    "        matingpool.append(population[index])\n",
    "    return matingpool\n",
    "\n",
    "\n",
    "\n",
    "\n",
    "#Create a crossover function for two parents to create one child\n",
    "def breed(parent1, parent2):\n",
    "    child = []\n",
    "    childP1 = []\n",
    "    childP2 = []\n",
    "    \n",
    "    geneA = int(random.random() * len(parent1))\n",
    "    geneB = int(random.random() * len(parent1))\n",
    "    \n",
    "    startGene = min(geneA, geneB)\n",
    "    endGene = max(geneA, geneB)\n",
    "\n",
    "    for i in range(startGene, endGene):\n",
    "        childP1.append(parent1[i])\n",
    "        \n",
    "\n",
    "    childP2 = [item for item in parent2 if item not in childP1]\n",
    "    print(startGene, endGene)\n",
    "\n",
    "    print(parent1)\n",
    "    print(parent2)\n",
    "\n",
    "    print(childP1)\n",
    "    print(childP2)\n",
    "    child = childP1 + childP2\n",
    "\n",
    "    print(child)\n",
    "    return child\n",
    "\n",
    "#Create function to run crossover over full mating pool\n",
    "\n",
    "def breedPopulation(matingpool, eliteSize):\n",
    "    children = []\n",
    "    length = len(matingpool) - eliteSize\n",
    "    pool = random.sample(matingpool, len(matingpool))\n",
    "\n",
    "    for i in range(0,eliteSize):\n",
    "        children.append(matingpool[i])\n",
    "    \n",
    "    for i in range(0, length):\n",
    "        child = breed(pool[i], pool[len(matingpool)-i-1])\n",
    "        children.append(child)\n",
    "    return children\n",
    "\n",
    "\n",
    "\n",
    "\n",
    "#Create function to mutate a single route\n",
    "def mutate(individual, mutationRate):\n",
    "    for swapped in range(len(individual)):\n",
    "        if(random.random() < mutationRate):\n",
    "            swapWith = int(random.random() * len(individual))\n",
    "            \n",
    "            city1 = individual[swapped]\n",
    "            city2 = individual[swapWith]\n",
    "            \n",
    "            individual[swapped] = city2\n",
    "            individual[swapWith] = city1\n",
    "    return individual\n",
    "\n",
    "\n",
    "\n",
    "#Create function to run mutation over entire population\n",
    "\n",
    "def mutatePopulation(population, mutationRate):\n",
    "    mutatedPop = []\n",
    "    \n",
    "    for ind in range(0, len(population)):\n",
    "        mutatedInd = mutate(population[ind], mutationRate)\n",
    "        mutatedPop.append(mutatedInd)\n",
    "    return mutatedPop\n",
    "\n",
    "\n",
    "\n",
    "#Put all steps together to create the next generation\n",
    "\n",
    "def nextGeneration(currentGen, eliteSize, mutationRate):\n",
    "    popRanked = rankRoutes(currentGen)\n",
    "    selectionResults = selection(popRanked, eliteSize)\n",
    "    matingpool = matingPool(currentGen, selectionResults)\n",
    "    children = breedPopulation(matingpool, eliteSize)\n",
    "    nextGeneration = mutatePopulation(children, mutationRate)\n",
    "    return nextGeneration"
   ]
  },
  {
   "cell_type": "markdown",
   "metadata": {},
   "source": [
    "## The genetic algorithm\n",
    "With all these function defined, all that is left is to write the definition of the genetic algorithm."
   ]
  },
  {
   "cell_type": "code",
   "execution_count": 5,
   "metadata": {},
   "outputs": [],
   "source": [
    "#Final step: create the genetic algorithm\n",
    "\n",
    "def geneticAlgorithm(population, popSize, eliteSize, mutationRate, generations):\n",
    "    pop = initialPopulation(popSize, population)\n",
    "    progress = [1 / rankRoutes(pop)[0][1]]\n",
    "    print(\"Initial distance: \" + str(progress[0]))\n",
    "    \n",
    "    for i in range(1, generations+1):\n",
    "        \n",
    "        pop = nextGeneration(pop, eliteSize, mutationRate)\n",
    "        progress.append(1 / rankRoutes(pop)[0][1])\n",
    "        if i%50==0:\n",
    "          print('Generation '+str(i),\"Distance: \",progress[i])\n",
    "        \n",
    "        \n",
    "    bestRouteIndex = rankRoutes(pop)[0][0]\n",
    "    bestRoute = pop[bestRouteIndex]\n",
    "    \n",
    "    plt.plot(progress)\n",
    "    plt.ylabel('Distance')\n",
    "    plt.xlabel('Generation')\n",
    "    plt.title('Best Fitness vs Generation')\n",
    "    plt.tight_layout()\n",
    "    plt.show()\n",
    "\n",
    "    \n",
    "    \n",
    "    return bestRoute"
   ]
  },
  {
   "cell_type": "markdown",
   "metadata": {},
   "source": [
    "## Testing\n",
    "Know we create a list of cities and run the algorithm, this should return the best route found in the last generation."
   ]
  },
  {
   "cell_type": "code",
   "execution_count": 6,
   "metadata": {},
   "outputs": [
    {
     "name": "stdout",
     "output_type": "stream",
     "text": [
      "Initial distance: 6083.0\n",
      "3 3\n",
      "[(1), (0), (2), (4), (3)]\n",
      "[(2), (3), (4), (1), (0)]\n",
      "[]\n",
      "[(2), (3), (4), (1), (0)]\n",
      "[(2), (3), (4), (1), (0)]\n",
      "0 4\n",
      "[(3), (4), (1), (0), (2)]\n",
      "[(1), (2), (3), (4), (0)]\n",
      "[(3), (4), (1), (0)]\n",
      "[(2)]\n",
      "[(3), (4), (1), (0), (2)]\n",
      "1 4\n",
      "[(4), (3), (2), (1), (0)]\n",
      "[(1), (2), (3), (4), (0)]\n",
      "[(3), (2), (1)]\n",
      "[(4), (0)]\n",
      "[(3), (2), (1), (4), (0)]\n",
      "0 4\n",
      "[(0), (1), (4), (3), (2)]\n",
      "[(3), (1), (2), (0), (4)]\n",
      "[(0), (1), (4), (3)]\n",
      "[(2)]\n",
      "[(0), (1), (4), (3), (2)]\n",
      "1 4\n",
      "[(0), (1), (4), (2), (3)]\n",
      "[(0), (1), (3), (2), (4)]\n",
      "[(1), (4), (2)]\n",
      "[(0), (3)]\n",
      "[(1), (4), (2), (0), (3)]\n",
      "4 4\n",
      "[(1), (4), (0), (2), (3)]\n",
      "[(2), (3), (4), (0), (1)]\n",
      "[]\n",
      "[(2), (3), (4), (0), (1)]\n",
      "[(2), (3), (4), (0), (1)]\n",
      "4 4\n",
      "[(2), (3), (0), (1), (4)]\n",
      "[(2), (3), (4), (0), (1)]\n",
      "[]\n",
      "[(2), (3), (4), (0), (1)]\n",
      "[(2), (3), (4), (0), (1)]\n",
      "2 4\n",
      "[(1), (4), (3), (2), (0)]\n",
      "[(1), (2), (3), (4), (0)]\n",
      "[(3), (2)]\n",
      "[(1), (4), (0)]\n",
      "[(3), (2), (1), (4), (0)]\n",
      "1 2\n",
      "[(2), (0), (3), (1), (4)]\n",
      "[(4), (0), (2), (1), (3)]\n",
      "[(0)]\n",
      "[(4), (2), (1), (3)]\n",
      "[(0), (4), (2), (1), (3)]\n",
      "0 4\n",
      "[(2), (3), (0), (1), (4)]\n",
      "[(0), (1), (3), (2), (4)]\n",
      "[(2), (3), (0), (1)]\n",
      "[(4)]\n",
      "[(2), (3), (0), (1), (4)]\n"
     ]
    },
    {
     "data": {
      "text/plain": "<Figure size 432x288 with 1 Axes>",
      "image/png": "[encoded data removed]"
     },
     "metadata": {
      "needs_background": "light"
     },
     "output_type": "display_data"
    },
    {
     "data": {
      "text/plain": "<Figure size 432x288 with 1 Axes>",
      "image/png": "[encoded data removed]"
     },
     "metadata": {
      "needs_background": "light"
     },
     "output_type": "display_data"
    }
   ],
   "source": [
    "#Running the genetic algorithm\n",
    "#Create list of cities\n",
    "\n",
    "cityList = []\n",
    "\n",
    "for i in range(0,5):\n",
    "    cityList.append(City(name = i, x=int(random.random() * 200), y=int(random.random() * 200)))\n",
    "\n",
    "\n",
    "best_route=geneticAlgorithm(population=cityList, popSize=30, eliteSize=20, mutationRate=0.01, generations=1)\n",
    "x=[]\n",
    "y=[]\n",
    "for i in best_route:\n",
    "  x.append(i.x)\n",
    "  y.append(i.y)\n",
    "x.append(best_route[0].x)\n",
    "y.append(best_route[0].y)\n",
    "plt.plot(x, y, '--o')\n",
    "plt.xlabel('X')\n",
    "plt.ylabel('Y')\n",
    "ax=plt.gca()\n",
    "plt.title('Final Route Layout')\n",
    "bbox_props = dict(boxstyle=\"circle,pad=0.3\", fc='C0', ec=\"black\", lw=0.5)\n",
    "for i in range(1,len(cityList)+1):\n",
    "  ax.text(cityList[i-1].x, cityList[i-1].y, str(i), ha=\"center\", va=\"center\",\n",
    "            size=8,\n",
    "            bbox=bbox_props)\n",
    "plt.tight_layout()\n",
    "plt.show()"
   ]
  }
 ],
 "metadata": {
  "kernelspec": {
   "display_name": "Python 3",
   "language": "python",
   "name": "python3"
  },
  "language_info": {
   "codemirror_mode": {
    "name": "ipython",
    "version": 3
   },
   "file_extension": ".py",
   "mimetype": "text/x-python",
   "name": "python",
   "nbconvert_exporter": "python",
   "pygments_lexer": "ipython3",
   "version": "3.7.6"
  }
 },
 "nbformat": 4,
 "nbformat_minor": 1
}