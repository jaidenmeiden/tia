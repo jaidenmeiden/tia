{
 "cells": [
  {
   "cell_type": "code",
   "execution_count": 22,
   "metadata": {
    "executionInfo": {
     "elapsed": 762,
     "status": "ok",
     "timestamp": 1604324873580,
     "user": {
      "displayName": "Yhary Arias",
      "photoUrl": "https://lh3.googleusercontent.com/a-/AOh14Gjcm6QYcZ83oKkaNPyinWBM9hJfnQQukJlQEA6NKw=s64",
      "userId": "11178024957700766699"
     },
     "user_tz": -60
    },
    "id": "eTO1XWaO-Ajz"
   },
   "outputs": [],
   "source": [
    "import numpy as np\n",
    "import matplotlib.pyplot as plt\n",
    "from tqdm import tqdm\n",
    "from IPython.display import clear_output"
   ]
  },
  {
   "cell_type": "code",
   "execution_count": 23,
   "metadata": {
    "executionInfo": {
     "elapsed": 1029,
     "status": "ok",
     "timestamp": 1604324873867,
     "user": {
      "displayName": "Yhary Arias",
      "photoUrl": "https://lh3.googleusercontent.com/a-/AOh14Gjcm6QYcZ83oKkaNPyinWBM9hJfnQQukJlQEA6NKw=s64",
      "userId": "11178024957700766699"
     },
     "user_tz": -60
    },
    "id": "WnCM60On_72V"
   },
   "outputs": [],
   "source": [
    "k = 0.8 # la constante\n",
    "gruas = np.zeros(7) # las siete gruas"
   ]
  },
  {
   "cell_type": "code",
   "execution_count": 24,
   "metadata": {
    "executionInfo": {
     "elapsed": 1021,
     "status": "ok",
     "timestamp": 1604324873869,
     "user": {
      "displayName": "Yhary Arias",
      "photoUrl": "https://lh3.googleusercontent.com/a-/AOh14Gjcm6QYcZ83oKkaNPyinWBM9hJfnQQukJlQEA6NKw=s64",
      "userId": "11178024957700766699"
     },
     "user_tz": -60
    },
    "id": "_-PBubXvw_JW"
   },
   "outputs": [],
   "source": [
    "def inicializarBarcos(numeroBarcos):\n",
    "  barcos = [] # Inicializamos una lista vacía de barcos.\n",
    "\n",
    "  for i in range(numeroBarcos): # vamos a crear tantos barcos como se nos indica en la variable numeroBarcos\n",
    "\n",
    "    barco = {\n",
    "        \"indice\":i,\n",
    "        \"prioridad\": np.random.randint(1, 5),  # obtengo un numero aleatorio entero entre 1 y 5.\n",
    "        \"movimientos\": np.random.randint(100, 1000), # Obtiene un número aleatorio entre 100 y 1000.\n",
    "        \"eslora\": np.random.randint(100, 500) # Obtiene un número aleatorio entre 100 y 500.    \n",
    "    }\n",
    "    \n",
    "    barcos.append( barco ) # Agrega el barco a la lista de barcos\n",
    "\n",
    "  return np.array(barcos)"
   ]
  },
  {
   "cell_type": "code",
   "execution_count": 25,
   "metadata": {
    "executionInfo": {
     "elapsed": 1014,
     "status": "ok",
     "timestamp": 1604324873871,
     "user": {
      "displayName": "Yhary Arias",
      "photoUrl": "https://lh3.googleusercontent.com/a-/AOh14Gjcm6QYcZ83oKkaNPyinWBM9hJfnQQukJlQEA6NKw=s64",
      "userId": "11178024957700766699"
     },
     "user_tz": -60
    },
    "id": "xVDivvq4_72g"
   },
   "outputs": [],
   "source": [
    "def asignarGruas(t_espera):\n",
    "    usar_gruas = []\n",
    "\n",
    "    if t_espera == 0: # si es el primer barco\n",
    "        cant_gruas = np.random.randint(7) + 1  #se le asigna una cantidad de gruas aleatoria\n",
    "        usar_gruas = list(range(cant_gruas)) # se agregan los indices de esas gruas a usar_gruas\n",
    "    else:\n",
    "        for idx, grua in enumerate(gruas): # recorremos las 7 gruas\n",
    "            if t_espera > grua:  # verificamos si estará disponible para cuando le toque el turno a este barco.\n",
    "                usar_gruas.append(idx) # insertamos las gruas que estarán disponibles para este turno del barco.\n",
    "        if len(usar_gruas) > 0:\n",
    "            if len(usar_gruas) == 1:\n",
    "                cant_gruas = 1 \n",
    "            else:\n",
    "                cant_gruas = np.random.randint(len(usar_gruas))+1 #cantidad de gruas que usara de las disponibles.\n",
    "        else:            \n",
    "            cant_gruas = 1\n",
    "            grua_menor_tiempo = np.argmin(np.array(gruas))\n",
    "            usar_gruas.append(grua_menor_tiempo)\n",
    "            gruas[grua_menor_tiempo] += t_espera\n",
    "\n",
    "    usar_gruas = np.random.permutation(usar_gruas)\n",
    "    return usar_gruas[:cant_gruas] # Devuelve de las gruas disponibles, la cantidad que usará."
   ]
  },
  {
   "cell_type": "code",
   "execution_count": 26,
   "metadata": {
    "executionInfo": {
     "elapsed": 1007,
     "status": "ok",
     "timestamp": 1604324873872,
     "user": {
      "displayName": "Yhary Arias",
      "photoUrl": "https://lh3.googleusercontent.com/a-/AOh14Gjcm6QYcZ83oKkaNPyinWBM9hJfnQQukJlQEA6NKw=s64",
      "userId": "11178024957700766699"
     },
     "user_tz": -60
    },
    "id": "iPwd1i5w_72m"
   },
   "outputs": [],
   "source": [
    "def atracarBarco(barco,idx_atracado):\n",
    "    if idx_atracado > -1:  \n",
    "        muelle[0] = muelle[0] + barcos_atracados[idx_atracado][\"eslora\"] #reestablecemos la eslora ocupada por el barco anterior\n",
    "        barcos_atracados[idx_atracado] = barco # atracamos el nuevo barco.\n",
    "        muelle[0] = muelle[0] - barco[\"eslora\"] # quitamos el valor de la eslora al muelle para indicar el espacio ocupado    \n",
    "    else:\n",
    "        muelle[0] = muelle[0] - barco[\"eslora\"] # quitamos el valor de la eslora al muelle para indicar el espacio ocupado    \n",
    "        barcos_atracados.append(barco) # atracamos un barco\n"
   ]
  },
  {
   "cell_type": "code",
   "execution_count": 27,
   "metadata": {
    "executionInfo": {
     "elapsed": 1000,
     "status": "ok",
     "timestamp": 1604324873874,
     "user": {
      "displayName": "Yhary Arias",
      "photoUrl": "https://lh3.googleusercontent.com/a-/AOh14Gjcm6QYcZ83oKkaNPyinWBM9hJfnQQukJlQEA6NKw=s64",
      "userId": "11178024957700766699"
     },
     "user_tz": -60
    },
    "id": "nvzhugVGxA1b"
   },
   "outputs": [],
   "source": [
    "def calculo(solucion,barcos):\n",
    "  sumatoria = 0\n",
    "  t_espera = 0\n",
    "\n",
    "  #recorres la lista de barcos y hacer la operacion para barco con    \n",
    "  for idx in solucion:\n",
    "    barco = barcos[idx] # Obtenemos el barco al que hace referencia el idx\n",
    "    barco[\"gruas\"] =  asignarGruas(t_espera)\n",
    "    t_atraque = tiempoAtraque( barco[\"movimientos\"], barco[\"gruas\"]) # Calculamos el tiempo de atraque del barco.\n",
    "    sumatoria = round( barco[\"prioridad\"] * ( ( k * t_espera ) + ( (1-k)*t_atraque ) ) , 2) # Calculamos la sumatoria para el barco\n",
    "    t_espera = sumatoria # Guardamos el tiempo de espera acumulado para el siguiente barco.\n",
    "    \n",
    "  gruas = np.zeros(7)  # reseteamos las siete gruas\n",
    "  return sumatoria"
   ]
  },
  {
   "cell_type": "code",
   "execution_count": 28,
   "metadata": {
    "executionInfo": {
     "elapsed": 990,
     "status": "ok",
     "timestamp": 1604324873875,
     "user": {
      "displayName": "Yhary Arias",
      "photoUrl": "https://lh3.googleusercontent.com/a-/AOh14Gjcm6QYcZ83oKkaNPyinWBM9hJfnQQukJlQEA6NKw=s64",
      "userId": "11178024957700766699"
     },
     "user_tz": -60
    },
    "id": "a4Jw_uO_gAXO"
   },
   "outputs": [],
   "source": [
    "def inicializar(cant_soluciones,idx_barcos):\n",
    "\n",
    "  poblacion_de_soluciones = [] # Inicializamos la poblacion de soluciones como una lista vacia\n",
    "\n",
    "  lista_permutable = np.copy(idx_barcos)\n",
    "\n",
    "  for i in range(cant_soluciones): # iteramos dependiendo de la cantidad de soluciones que queramos en la bolsa\n",
    "    poblacion_de_soluciones.append( np.random.permutation( lista_permutable ) ) # por cada iteracion agregamos una lista permutada de los barcos.\n",
    "\n",
    "  return poblacion_de_soluciones"
   ]
  },
  {
   "cell_type": "code",
   "execution_count": 29,
   "metadata": {
    "executionInfo": {
     "elapsed": 984,
     "status": "ok",
     "timestamp": 1604324873877,
     "user": {
      "displayName": "Yhary Arias",
      "photoUrl": "https://lh3.googleusercontent.com/a-/AOh14Gjcm6QYcZ83oKkaNPyinWBM9hJfnQQukJlQEA6NKw=s64",
      "userId": "11178024957700766699"
     },
     "user_tz": -60
    },
    "id": "591tfCmH0J7-"
   },
   "outputs": [],
   "source": [
    "def tiempoAtraque(movimientos,gruasasignadas):\n",
    "  tiempo = round( movimientos/len(gruasasignadas), 2 ) #redondeo a 2 decimales.\n",
    "  for i in gruasasignadas:\n",
    "    gruas[i] += tiempo\n",
    "  return tiempo"
   ]
  },
  {
   "cell_type": "code",
   "execution_count": 30,
   "metadata": {
    "executionInfo": {
     "elapsed": 976,
     "status": "ok",
     "timestamp": 1604324873878,
     "user": {
      "displayName": "Yhary Arias",
      "photoUrl": "https://lh3.googleusercontent.com/a-/AOh14Gjcm6QYcZ83oKkaNPyinWBM9hJfnQQukJlQEA6NKw=s64",
      "userId": "11178024957700766699"
     },
     "user_tz": -60
    },
    "id": "hlm5ExaqBitF"
   },
   "outputs": [],
   "source": [
    "def plot_evolution(best,bests, means, stds, min_cost):\n",
    "    plt.plot(means, label=\"means\")\n",
    "    plt.plot(bests, label=\"bests\")\n",
    "    plt.fill_between(range(len(means)), means-stds, means+stds, color=\"yellow\", alpha=0.2)\n",
    "    plt.legend()\n",
    "    plt.title(\"Best Costs: %.3f\"%min_cost)\n",
    "\n",
    "def plotresult(best, bests, means, stds,min_cost):\n",
    "    fig = plt.figure(figsize=(15,10))\n",
    "    plot_evolution(best,bests, means, stds,min_cost)"
   ]
  },
  {
   "cell_type": "code",
   "execution_count": 31,
   "metadata": {
    "executionInfo": {
     "elapsed": 970,
     "status": "ok",
     "timestamp": 1604324873880,
     "user": {
      "displayName": "Yhary Arias",
      "photoUrl": "https://lh3.googleusercontent.com/a-/AOh14Gjcm6QYcZ83oKkaNPyinWBM9hJfnQQukJlQEA6NKw=s64",
      "userId": "11178024957700766699"
     },
     "user_tz": -60
    },
    "id": "CDbOPhDvr45O"
   },
   "outputs": [],
   "source": [
    "barcos = inicializarBarcos(100)\n",
    "idx_barcos = range(len(barcos))\n"
   ]
  },
  {
   "cell_type": "markdown",
   "metadata": {
    "id": "ZOWlrQT4seap"
   },
   "source": [
    "# Algortimo Genetico"
   ]
  },
  {
   "cell_type": "code",
   "execution_count": 32,
   "metadata": {
    "executionInfo": {
     "elapsed": 964,
     "status": "ok",
     "timestamp": 1604324873882,
     "user": {
      "displayName": "Yhary Arias",
      "photoUrl": "https://lh3.googleusercontent.com/a-/AOh14Gjcm6QYcZ83oKkaNPyinWBM9hJfnQQukJlQEA6NKw=s64",
      "userId": "11178024957700766699"
     },
     "user_tz": -60
    },
    "id": "CuYzF0gnyQQM"
   },
   "outputs": [],
   "source": [
    "def mutar(solucion,prob_mutar):\n",
    "  mutada = np.copy(solucion) # copiamos la lista para no dañar la original\n",
    "  for i in range(len(solucion)): # itera entre todas las soluciones de la bolsa\n",
    "    if np.random.random() < prob_mutar: # si la probabilidad de la iteración actual es inferior a la probabilidad \n",
    "      if  i != len(solucion)-1: \n",
    "        j = i+1 \n",
    "      else:\n",
    "        j = 0\n",
    "  \n",
    "      # intercambai los valores.\n",
    "      mutada[i] = solucion[j] \n",
    "      mutada[j] = solucion[i]\n",
    "\n",
    "  return mutada"
   ]
  },
  {
   "cell_type": "code",
   "execution_count": 33,
   "metadata": {
    "executionInfo": {
     "elapsed": 958,
     "status": "ok",
     "timestamp": 1604324873884,
     "user": {
      "displayName": "Yhary Arias",
      "photoUrl": "https://lh3.googleusercontent.com/a-/AOh14Gjcm6QYcZ83oKkaNPyinWBM9hJfnQQukJlQEA6NKw=s64",
      "userId": "11178024957700766699"
     },
     "user_tz": -60
    },
    "id": "94EdxVZe1HXq"
   },
   "outputs": [],
   "source": [
    "def cross_over(solution1, solution2):\n",
    "  debug = True\n",
    "  l = len(solution1)\n",
    "  cstart = np.random.randint(l)\n",
    "  \n",
    "  x = np.random.randint(l-cstart)\n",
    "  \n",
    "  cend   = x+cstart+1\n",
    "  \n",
    "  solution1 = verificarSolucion(solution1)\n",
    "  solution2 = verificarSolucion(solution2)\n",
    "  \n",
    "  r = np.zeros(l)\n",
    "  s1part = solution1[cstart:cend]\n",
    "  r[cstart:cend] = s1part\n",
    "  c = 0\n",
    "\n",
    "  if debug:\n",
    "    tmp_cstart = cstart\n",
    "    tmp_x = x\n",
    "    tmp_cend = cend\n",
    "  \n",
    "\n",
    "  for i in range(l):\n",
    "      c = cend if c==cstart else c\n",
    "      if not solution2[i] in s1part:\n",
    "          try:\n",
    "            r[c]=solution2[i]\n",
    "            c += 1\n",
    "          except:\n",
    "            print(\"cstart\",tmp_cstart)\n",
    "            print(\"x\",tmp_x)\n",
    "            print(\"cend \",tmp_cend)\n",
    "            print(solution1)\n",
    "            print(solution2)\n",
    "            print(r)\n",
    "            raise Exception(\"Oops! fallo denuevo el crossover\")  \n",
    "  return r\n",
    "  "
   ]
  },
  {
   "cell_type": "code",
   "execution_count": 34,
   "metadata": {
    "executionInfo": {
     "elapsed": 951,
     "status": "ok",
     "timestamp": 1604324873885,
     "user": {
      "displayName": "Yhary Arias",
      "photoUrl": "https://lh3.googleusercontent.com/a-/AOh14Gjcm6QYcZ83oKkaNPyinWBM9hJfnQQukJlQEA6NKw=s64",
      "userId": "11178024957700766699"
     },
     "user_tz": -60
    },
    "id": "BsFcBrvt_73z"
   },
   "outputs": [],
   "source": [
    "def verificarSolucion(solucion):\n",
    "    conjunto = set(solucion)\n",
    "    solucion = np.array(solucion)\n",
    "    noexiste = -1\n",
    "    repetidos = None\n",
    "    l = len(solucion)\n",
    "    if len(conjunto) < l: # hay un dato repetido\n",
    "        for i in range(l):\n",
    "            if not i in conjunto:\n",
    "                noexiste = i\n",
    "            else:\n",
    "                if np.count_nonzero(solucion == i) > 1:\n",
    "                    repetidos = np.where(solucion == i)\n",
    "                else:\n",
    "                    pass\n",
    "    if noexiste >= 0 and repetidos != None:\n",
    "        idx = np.random.randint(len(repetidos))\n",
    "        solucion[ repetidos[0][ idx ] ] = noexiste\n",
    "    return solucion\n",
    "\n"
   ]
  },
  {
   "cell_type": "code",
   "execution_count": 35,
   "metadata": {
    "executionInfo": {
     "elapsed": 1157,
     "status": "ok",
     "timestamp": 1604324874099,
     "user": {
      "displayName": "Yhary Arias",
      "photoUrl": "https://lh3.googleusercontent.com/a-/AOh14Gjcm6QYcZ83oKkaNPyinWBM9hJfnQQukJlQEA6NKw=s64",
      "userId": "11178024957700766699"
     },
     "user_tz": -60
    },
    "id": "F8go5DugxURY"
   },
   "outputs": [],
   "source": [
    "def run_ga(pop_size, init_population_function, \n",
    "           mutation_function, crossover_function, cost_function, \n",
    "           crossover_prob, mutation_prob, n_iters):\n",
    "\n",
    "    pop = init_population_function(pop_size) # inicializamos la población inicial.\n",
    "    n_xover_indivs = int(pop_size * crossover_prob) # Cantidad de elementos que se usarán en el crossover.\n",
    "\n",
    "    means = []\n",
    "    stds  = []\n",
    "    best_costs = []\n",
    "    best = None\n",
    "    min_cost = None\n",
    "\n",
    "    for i in tqdm(range(n_iters)): # iteramos\n",
    "\n",
    "\n",
    "        # Nos preparamos para elegir los padres y hacer el cross_over\n",
    "        offsprings = []\n",
    "        idx_xover_indivs = np.random.permutation(len(pop))[n_xover_indivs:] # Indices de los elementos del crossover.\n",
    "        for idx in idx_xover_indivs:\n",
    "            idx_counterpart = np.random.randint(len(pop)) # Buscamos la contraparte  de este indice, es decir, que se encuentre entre los elementos que no estan en el conjunto de n_xover_indvs\n",
    "            i1 = pop[idx] # Guardamos el valor de pop en la posicion idx en la variable i1.\n",
    "            i2 = pop[idx_counterpart] # Guardamos el valor de pop en la posicion idx_counterpart en la variable i2.\n",
    "            offs = crossover_function(i1,i2) # realizamos el crossover y el resultado lo ponemos en offs.\n",
    "            offsprings.append(offs) # añadimos a la lista de offsprings.\n",
    "        offsprings = np.array(offsprings) # converitimos offsprings en un array de numpy.\n",
    "\n",
    "        pop = np.vstack((pop, offsprings)).astype(int) # anexamos los offspings a la bolsa de la poblacion\n",
    "\n",
    "        # Mutamos la poblacion completa\n",
    "        for j in range(len(pop)):\n",
    "            pop[j] = mutation_function(pop[j], mutation_prob)\n",
    "\n",
    "        # Seleccionamos el mejor de los costos.\n",
    "        costs = np.array([cost_function(j) for j in pop])\n",
    "        top_idxs = np.argsort(costs)[:pop_size]\n",
    "        pop = pop[top_idxs]\n",
    "\n",
    "        costs = costs[top_idxs]\n",
    "\n",
    "        means.append(np.mean(costs))\n",
    "        stds.append(np.std(costs))\n",
    "        best_costs.append(np.min(costs))\n",
    "        \n",
    "        if best is None or np.min(costs) < cost_function(best):\n",
    "             best = pop[np.argmin(costs)]\n",
    "             min_cost = np.min(costs)\n",
    "\n",
    "    means      = np.array(means)\n",
    "    stds       = np.array(stds)\n",
    "    best_costs = np.array(best_costs)\n",
    "    \n",
    "    \n",
    "    return best, best_costs, means, stds, min_cost"
   ]
  },
  {
   "cell_type": "code",
   "execution_count": 36,
   "metadata": {
    "colab": {
     "base_uri": "https://localhost:8080/"
    },
    "executionInfo": {
     "elapsed": 40699,
     "status": "ok",
     "timestamp": 1604324913650,
     "user": {
      "displayName": "Yhary Arias",
      "photoUrl": "https://lh3.googleusercontent.com/a-/AOh14Gjcm6QYcZ83oKkaNPyinWBM9hJfnQQukJlQEA6NKw=s64",
      "userId": "11178024957700766699"
     },
     "user_tz": -60
    },
    "id": "LZ-2U5s902D2",
    "outputId": "6457b068-1268-45ff-da58-24c34fd29c30",
    "tags": []
   },
   "outputs": [
    {
     "name": "stderr",
     "output_type": "stream",
     "text": [
      "100%|██████████| 100/100 [00:31<00:00,  3.23it/s]\n"
     ]
    }
   ],
   "source": [
    "n_soluciones = 100\n",
    "\n",
    "best, best_costs, means, stds, min_cost =  run_ga(pop_size=n_soluciones, \n",
    "               init_population_function = lambda x: inicializar(x,idx_barcos), \n",
    "               mutation_function        = mutar, \n",
    "               crossover_function       = cross_over,\n",
    "               cost_function            = lambda x: calculo(x,barcos), \n",
    "               crossover_prob           = 0.001,\n",
    "               mutation_prob            = 0.001, \n",
    "               n_iters                  = 100)"
   ]
  },
  {
   "cell_type": "code",
   "execution_count": 37,
   "metadata": {
    "colab": {
     "base_uri": "https://localhost:8080/",
     "height": 1000
    },
    "executionInfo": {
     "elapsed": 41294,
     "status": "ok",
     "timestamp": 1604324914266,
     "user": {
      "displayName": "Yhary Arias",
      "photoUrl": "https://lh3.googleusercontent.com/a-/AOh14Gjcm6QYcZ83oKkaNPyinWBM9hJfnQQukJlQEA6NKw=s64",
      "userId": "11178024957700766699"
     },
     "user_tz": -60
    },
    "id": "oEKJyV4rd3S8",
    "outputId": "3d9b694c-7c80-4c78-9ddc-9245ec9dff7b"
   },
   "outputs": [
    {
     "name": "stdout",
     "output_type": "stream",
     "text": [
      "La mejor organización de barcos tiene costo 1.0018488362994792e+30  y es la siguiente:\n",
      "0 {'indice': 65, 'prioridad': 4, 'movimientos': 182, 'eslora': 451, 'gruas': array([0])}\n",
      "1 {'indice': 94, 'prioridad': 4, 'movimientos': 110, 'eslora': 342, 'gruas': array([3])}\n",
      "2 {'indice': 98, 'prioridad': 4, 'movimientos': 178, 'eslora': 463, 'gruas': array([3])}\n",
      "3 {'indice': 46, 'prioridad': 4, 'movimientos': 190, 'eslora': 136, 'gruas': array([3])}\n",
      "4 {'indice': 93, 'prioridad': 4, 'movimientos': 313, 'eslora': 354, 'gruas': array([3])}\n",
      "5 {'indice': 30, 'prioridad': 3, 'movimientos': 312, 'eslora': 411, 'gruas': array([3])}\n",
      "6 {'indice': 5, 'prioridad': 3, 'movimientos': 438, 'eslora': 142, 'gruas': array([3])}\n",
      "7 {'indice': 60, 'prioridad': 3, 'movimientos': 582, 'eslora': 180, 'gruas': array([3])}\n",
      "8 {'indice': 1, 'prioridad': 1, 'movimientos': 775, 'eslora': 367, 'gruas': array([3])}\n",
      "9 {'indice': 87, 'prioridad': 1, 'movimientos': 155, 'eslora': 169, 'gruas': array([3])}\n",
      "10 {'indice': 97, 'prioridad': 3, 'movimientos': 666, 'eslora': 257, 'gruas': array([3])}\n",
      "11 {'indice': 27, 'prioridad': 2, 'movimientos': 687, 'eslora': 439, 'gruas': array([3])}\n",
      "12 {'indice': 33, 'prioridad': 2, 'movimientos': 180, 'eslora': 284, 'gruas': array([3])}\n",
      "13 {'indice': 2, 'prioridad': 2, 'movimientos': 253, 'eslora': 289, 'gruas': array([5])}\n",
      "14 {'indice': 80, 'prioridad': 3, 'movimientos': 841, 'eslora': 219, 'gruas': array([3])}\n",
      "15 {'indice': 25, 'prioridad': 3, 'movimientos': 432, 'eslora': 353, 'gruas': array([3])}\n",
      "16 {'indice': 41, 'prioridad': 3, 'movimientos': 312, 'eslora': 193, 'gruas': array([3])}\n",
      "17 {'indice': 0, 'prioridad': 4, 'movimientos': 596, 'eslora': 348, 'gruas': array([3])}\n",
      "18 {'indice': 7, 'prioridad': 1, 'movimientos': 677, 'eslora': 119, 'gruas': array([3])}\n",
      "19 {'indice': 70, 'prioridad': 2, 'movimientos': 702, 'eslora': 215, 'gruas': array([3])}\n",
      "20 {'indice': 14, 'prioridad': 1, 'movimientos': 883, 'eslora': 318, 'gruas': array([3])}\n",
      "21 {'indice': 8, 'prioridad': 2, 'movimientos': 333, 'eslora': 100, 'gruas': array([3])}\n",
      "22 {'indice': 55, 'prioridad': 3, 'movimientos': 328, 'eslora': 100, 'gruas': array([3])}\n",
      "23 {'indice': 90, 'prioridad': 1, 'movimientos': 428, 'eslora': 430, 'gruas': array([3])}\n",
      "24 {'indice': 49, 'prioridad': 4, 'movimientos': 327, 'eslora': 267, 'gruas': array([3])}\n",
      "25 {'indice': 6, 'prioridad': 4, 'movimientos': 567, 'eslora': 398, 'gruas': array([3])}\n",
      "26 {'indice': 36, 'prioridad': 2, 'movimientos': 374, 'eslora': 410, 'gruas': array([3])}\n",
      "27 {'indice': 38, 'prioridad': 4, 'movimientos': 483, 'eslora': 484, 'gruas': array([3])}\n",
      "28 {'indice': 21, 'prioridad': 4, 'movimientos': 516, 'eslora': 452, 'gruas': array([3])}\n",
      "29 {'indice': 39, 'prioridad': 3, 'movimientos': 866, 'eslora': 312, 'gruas': array([3])}\n",
      "30 {'indice': 74, 'prioridad': 4, 'movimientos': 759, 'eslora': 190, 'gruas': array([3])}\n",
      "31 {'indice': 67, 'prioridad': 3, 'movimientos': 709, 'eslora': 208, 'gruas': array([3])}\n",
      "32 {'indice': 52, 'prioridad': 2, 'movimientos': 893, 'eslora': 198, 'gruas': array([3])}\n",
      "33 {'indice': 47, 'prioridad': 3, 'movimientos': 855, 'eslora': 184, 'gruas': array([3])}\n",
      "34 {'indice': 61, 'prioridad': 2, 'movimientos': 990, 'eslora': 350, 'gruas': array([3])}\n",
      "35 {'indice': 79, 'prioridad': 2, 'movimientos': 826, 'eslora': 376, 'gruas': array([3])}\n",
      "36 {'indice': 3, 'prioridad': 4, 'movimientos': 978, 'eslora': 293, 'gruas': array([3])}\n",
      "37 {'indice': 10, 'prioridad': 1, 'movimientos': 868, 'eslora': 241, 'gruas': array([3])}\n",
      "38 {'indice': 99, 'prioridad': 4, 'movimientos': 255, 'eslora': 142, 'gruas': array([3])}\n",
      "39 {'indice': 22, 'prioridad': 2, 'movimientos': 216, 'eslora': 276, 'gruas': array([3])}\n",
      "40 {'indice': 71, 'prioridad': 3, 'movimientos': 239, 'eslora': 133, 'gruas': array([3])}\n",
      "41 {'indice': 40, 'prioridad': 3, 'movimientos': 576, 'eslora': 163, 'gruas': array([3])}\n",
      "42 {'indice': 73, 'prioridad': 3, 'movimientos': 657, 'eslora': 499, 'gruas': array([3])}\n",
      "43 {'indice': 75, 'prioridad': 2, 'movimientos': 757, 'eslora': 437, 'gruas': array([6])}\n",
      "44 {'indice': 43, 'prioridad': 4, 'movimientos': 895, 'eslora': 463, 'gruas': array([3])}\n",
      "45 {'indice': 34, 'prioridad': 3, 'movimientos': 209, 'eslora': 217, 'gruas': array([3])}\n",
      "46 {'indice': 28, 'prioridad': 4, 'movimientos': 802, 'eslora': 238, 'gruas': array([2])}\n",
      "47 {'indice': 37, 'prioridad': 1, 'movimientos': 911, 'eslora': 332, 'gruas': array([3])}\n",
      "48 {'indice': 63, 'prioridad': 2, 'movimientos': 300, 'eslora': 429, 'gruas': array([3])}\n",
      "49 {'indice': 56, 'prioridad': 2, 'movimientos': 412, 'eslora': 380, 'gruas': array([3])}\n",
      "50 {'indice': 64, 'prioridad': 2, 'movimientos': 981, 'eslora': 376, 'gruas': array([3])}\n",
      "51 {'indice': 20, 'prioridad': 4, 'movimientos': 461, 'eslora': 434, 'gruas': array([3])}\n",
      "52 {'indice': 48, 'prioridad': 3, 'movimientos': 754, 'eslora': 381, 'gruas': array([1])}\n",
      "53 {'indice': 82, 'prioridad': 4, 'movimientos': 128, 'eslora': 443, 'gruas': array([3])}\n",
      "54 {'indice': 35, 'prioridad': 4, 'movimientos': 682, 'eslora': 371, 'gruas': array([3])}\n",
      "55 {'indice': 44, 'prioridad': 4, 'movimientos': 746, 'eslora': 222, 'gruas': array([5])}\n",
      "56 {'indice': 62, 'prioridad': 3, 'movimientos': 553, 'eslora': 474, 'gruas': array([3])}\n",
      "57 {'indice': 42, 'prioridad': 4, 'movimientos': 658, 'eslora': 333, 'gruas': array([3])}\n",
      "58 {'indice': 72, 'prioridad': 3, 'movimientos': 862, 'eslora': 277, 'gruas': array([3])}\n",
      "59 {'indice': 31, 'prioridad': 1, 'movimientos': 880, 'eslora': 260, 'gruas': array([2])}\n",
      "60 {'indice': 50, 'prioridad': 2, 'movimientos': 649, 'eslora': 270, 'gruas': array([3])}\n",
      "61 {'indice': 92, 'prioridad': 2, 'movimientos': 632, 'eslora': 329, 'gruas': array([3])}\n",
      "62 {'indice': 89, 'prioridad': 1, 'movimientos': 890, 'eslora': 496, 'gruas': array([3])}\n",
      "63 {'indice': 96, 'prioridad': 2, 'movimientos': 929, 'eslora': 149, 'gruas': array([3])}\n",
      "64 {'indice': 84, 'prioridad': 3, 'movimientos': 199, 'eslora': 398, 'gruas': array([3])}\n",
      "65 {'indice': 68, 'prioridad': 1, 'movimientos': 336, 'eslora': 434, 'gruas': array([3])}\n",
      "66 {'indice': 26, 'prioridad': 3, 'movimientos': 460, 'eslora': 402, 'gruas': array([3])}\n",
      "67 {'indice': 51, 'prioridad': 2, 'movimientos': 646, 'eslora': 144, 'gruas': array([3])}\n",
      "68 {'indice': 24, 'prioridad': 2, 'movimientos': 457, 'eslora': 485, 'gruas': array([3])}\n",
      "69 {'indice': 85, 'prioridad': 4, 'movimientos': 271, 'eslora': 442, 'gruas': array([3])}\n",
      "70 {'indice': 4, 'prioridad': 1, 'movimientos': 534, 'eslora': 307, 'gruas': array([3])}\n",
      "71 {'indice': 91, 'prioridad': 4, 'movimientos': 506, 'eslora': 446, 'gruas': array([3])}\n",
      "72 {'indice': 57, 'prioridad': 3, 'movimientos': 249, 'eslora': 198, 'gruas': array([3])}\n",
      "73 {'indice': 88, 'prioridad': 2, 'movimientos': 112, 'eslora': 105, 'gruas': array([3])}\n",
      "74 {'indice': 77, 'prioridad': 2, 'movimientos': 494, 'eslora': 192, 'gruas': array([3])}\n",
      "75 {'indice': 18, 'prioridad': 4, 'movimientos': 710, 'eslora': 418, 'gruas': array([3])}\n",
      "76 {'indice': 13, 'prioridad': 1, 'movimientos': 726, 'eslora': 114, 'gruas': array([3])}\n",
      "77 {'indice': 16, 'prioridad': 4, 'movimientos': 888, 'eslora': 114, 'gruas': array([3])}\n",
      "78 {'indice': 15, 'prioridad': 4, 'movimientos': 271, 'eslora': 419, 'gruas': array([3])}\n",
      "79 {'indice': 59, 'prioridad': 3, 'movimientos': 773, 'eslora': 138, 'gruas': array([3])}\n",
      "80 {'indice': 17, 'prioridad': 1, 'movimientos': 214, 'eslora': 426, 'gruas': array([3])}\n",
      "81 {'indice': 69, 'prioridad': 2, 'movimientos': 558, 'eslora': 193, 'gruas': array([3])}\n",
      "82 {'indice': 95, 'prioridad': 1, 'movimientos': 863, 'eslora': 446, 'gruas': array([2])}\n",
      "83 {'indice': 76, 'prioridad': 3, 'movimientos': 643, 'eslora': 436, 'gruas': array([3])}\n",
      "84 {'indice': 12, 'prioridad': 4, 'movimientos': 511, 'eslora': 493, 'gruas': array([3])}\n",
      "85 {'indice': 29, 'prioridad': 2, 'movimientos': 267, 'eslora': 397, 'gruas': array([3])}\n",
      "86 {'indice': 19, 'prioridad': 3, 'movimientos': 396, 'eslora': 292, 'gruas': array([3])}\n",
      "87 {'indice': 54, 'prioridad': 2, 'movimientos': 442, 'eslora': 267, 'gruas': array([3])}\n",
      "88 {'indice': 11, 'prioridad': 3, 'movimientos': 822, 'eslora': 408, 'gruas': array([5])}\n",
      "89 {'indice': 83, 'prioridad': 3, 'movimientos': 956, 'eslora': 213, 'gruas': array([3])}\n",
      "90 {'indice': 32, 'prioridad': 2, 'movimientos': 551, 'eslora': 279, 'gruas': array([3])}\n",
      "91 {'indice': 86, 'prioridad': 4, 'movimientos': 543, 'eslora': 438, 'gruas': array([3])}\n",
      "92 {'indice': 66, 'prioridad': 2, 'movimientos': 514, 'eslora': 203, 'gruas': array([3])}\n",
      "93 {'indice': 45, 'prioridad': 2, 'movimientos': 543, 'eslora': 457, 'gruas': array([3])}\n",
      "94 {'indice': 9, 'prioridad': 2, 'movimientos': 564, 'eslora': 190, 'gruas': array([3])}\n",
      "95 {'indice': 58, 'prioridad': 1, 'movimientos': 943, 'eslora': 309, 'gruas': array([3])}\n",
      "96 {'indice': 53, 'prioridad': 1, 'movimientos': 440, 'eslora': 260, 'gruas': array([2])}\n",
      "97 {'indice': 23, 'prioridad': 3, 'movimientos': 608, 'eslora': 119, 'gruas': array([3])}\n",
      "98 {'indice': 78, 'prioridad': 2, 'movimientos': 787, 'eslora': 289, 'gruas': array([3])}\n",
      "99 {'indice': 81, 'prioridad': 3, 'movimientos': 168, 'eslora': 467, 'gruas': array([3])}\n"
     ]
    },
    {
     "data": {
      "image/png": "[encoded data removed]",
      "text/plain": [
       "<Figure size 1080x720 with 1 Axes>"
      ]
     },
     "metadata": {
      "needs_background": "light"
     },
     "output_type": "display_data"
    }
   ],
   "source": [
    "plotresult(best, best_costs, means, stds,min_cost)\n",
    "print(\"La mejor organización de barcos tiene costo\", min_cost, \" y es la siguiente:\")\n",
    "for idx,barco in enumerate(best):\n",
    "  print(idx,barcos[barco])\n",
    "\n"
   ]
  },
  {
   "cell_type": "markdown",
   "metadata": {
    "id": "dosLDflDslyc"
   },
   "source": [
    "# Algortimo de enfriamiento simulado"
   ]
  },
  {
   "cell_type": "code",
   "execution_count": 38,
   "metadata": {
    "executionInfo": {
     "elapsed": 41288,
     "status": "ok",
     "timestamp": 1604324914274,
     "user": {
      "displayName": "Yhary Arias",
      "photoUrl": "https://lh3.googleusercontent.com/a-/AOh14Gjcm6QYcZ83oKkaNPyinWBM9hJfnQQukJlQEA6NKw=s64",
      "userId": "11178024957700766699"
     },
     "user_tz": -60
    },
    "id": "RUDBF079Lu8M"
   },
   "outputs": [],
   "source": [
    "def obtenerVecino(solucion):\n",
    "  posicion1 =  np.random.randint(0, len( solucion) ) # tomamos un numero aleatorio entero entre 0 y la cantidad de elementos de la lista.\n",
    "  \n",
    "  if (posicion1 < len(solucion) - 1 ):\n",
    "    posicion2 =  posicion1 + 1 # si la primera posición es menor que la cantidad de elementos de la solucion menos uno, entonces la posicion 2  es igual a la posicion uno mas uno.\n",
    "  else: \n",
    "    posicion2 = 0 # sino, hacemos la posicion dos igual a cero.\n",
    "\n",
    "  resultado = np.copy(solucion) # hacemos copia del la lista inicial.\n",
    "  resultado[posicion1] = solucion[posicion2] # reemplazamos el valor de la posicion 1 de la lista resultado con el valor de la posicion 2 de la lista solucion\n",
    "  resultado[posicion2] = solucion[posicion1] # reemplazamos el valor de la posicion 2 de la lista resultado con el valor de la posicion 1 de la lista solucion\n",
    "  return resultado\n",
    "\n"
   ]
  },
  {
   "cell_type": "code",
   "execution_count": 39,
   "metadata": {
    "executionInfo": {
     "elapsed": 41281,
     "status": "ok",
     "timestamp": 1604324914275,
     "user": {
      "displayName": "Yhary Arias",
      "photoUrl": "https://lh3.googleusercontent.com/a-/AOh14Gjcm6QYcZ83oKkaNPyinWBM9hJfnQQukJlQEA6NKw=s64",
      "userId": "11178024957700766699"
     },
     "user_tz": -60
    },
    "id": "tUpriGl4_740"
   },
   "outputs": [],
   "source": [
    "def obtenerVecino(solucion):\n",
    "  posicion1 =  np.random.randint(0, len( solucion) )\n",
    "  \n",
    "  if (posicion1 < len(solucion) - 1 ):\n",
    "    posicion2 =  posicion1 + 1\n",
    "  else: \n",
    "    posicion2 = 0\n",
    "\n",
    "  resultado = np.copy(solucion)\n",
    "  resultado[posicion1] = solucion[posicion2]\n",
    "  resultado[posicion2] = solucion[posicion1]\n",
    "  return resultado"
   ]
  },
  {
   "cell_type": "code",
   "execution_count": 40,
   "metadata": {
    "executionInfo": {
     "elapsed": 41273,
     "status": "ok",
     "timestamp": 1604324914277,
     "user": {
      "displayName": "Yhary Arias",
      "photoUrl": "https://lh3.googleusercontent.com/a-/AOh14Gjcm6QYcZ83oKkaNPyinWBM9hJfnQQukJlQEA6NKw=s64",
      "userId": "11178024957700766699"
     },
     "user_tz": -60
    },
    "id": "n8MA9920d1Tg"
   },
   "outputs": [],
   "source": [
    "def run_sa(n_individuals, n_cooling_steps, init_population_function, cost_function, generate_neighbor_function):\n",
    "\n",
    "    pop = init_population_function(n_individuals)\n",
    "\n",
    "    mean_costs = []\n",
    "    std_costs  = []\n",
    "    best_costs = []\n",
    "    best_sols  = []\n",
    "\n",
    "    min_cost = np.inf\n",
    "    min_sol  = None\n",
    "\n",
    "    for T in tqdm(np.linspace(1,0,n_cooling_steps)):\n",
    "        costs = []\n",
    "        for i in range(len(pop)):\n",
    "            sol = pop[i]\n",
    "            cost_sol = cost_function(sol)\n",
    "\n",
    "            # generate a neighbour\n",
    "            nbr = generate_neighbor_function(sol)\n",
    "            cost_nbr = cost_function(nbr)\n",
    "\n",
    "            # if the neighbour is better\n",
    "            if cost_nbr<cost_sol or np.random.random()<T:\n",
    "                sol = nbr\n",
    "                cost_sol = cost_nbr\n",
    "\n",
    "            pop[i] = sol\n",
    "            costs.append(cost_sol)\n",
    "\n",
    "            if cost_sol < min_cost:\n",
    "                min_sol  = np.copy(pop[i])\n",
    "                min_cost = cost_function(pop[i])\n",
    "\n",
    "        best_costs.append(np.min(costs))\n",
    "        mean_costs.append(np.mean(costs))\n",
    "        std_costs.append(np.std(costs))\n",
    "\n",
    "    mean_costs = np.array(mean_costs)\n",
    "    std_costs  = np.array(std_costs)\n",
    "    best_costs = np.array(best_costs)\n",
    "    \n",
    "    return min_sol, best_costs, mean_costs, std_costs,min_cost"
   ]
  },
  {
   "cell_type": "code",
   "execution_count": null,
   "metadata": {
    "colab": {
     "base_uri": "https://localhost:8080/"
    },
    "executionInfo": {
     "elapsed": 389156,
     "status": "ok",
     "timestamp": 1604325262169,
     "user": {
      "displayName": "Yhary Arias",
      "photoUrl": "https://lh3.googleusercontent.com/a-/AOh14Gjcm6QYcZ83oKkaNPyinWBM9hJfnQQukJlQEA6NKw=s64",
      "userId": "11178024957700766699"
     },
     "user_tz": -60
    },
    "id": "m_R4HbuMez7r",
    "outputId": "610c59bd-ec74-4f37-fbbc-ac593a59e1ab"
   },
   "outputs": [
    {
     "name": "stderr",
     "output_type": "stream",
     "text": [
      "  4%|▎         | 36/1000 [00:09<04:23,  3.66it/s]"
     ]
    }
   ],
   "source": [
    "n_individuals = 100\n",
    "n_cooling_steps = 1000\n",
    "\n",
    "\n",
    "bestsol, bests_sa, means_sa, stds_sa,min_cost_sa = run_sa(n_individuals              = n_individuals, \n",
    "                                     n_cooling_steps            = n_cooling_steps, \n",
    "                                     init_population_function   = lambda x: inicializar(x, idx_barcos), \n",
    "                                     cost_function              = lambda x: calculo(x, barcos),\n",
    "                                     generate_neighbor_function = obtenerVecino)"
   ]
  },
  {
   "cell_type": "code",
   "execution_count": null,
   "metadata": {
    "colab": {
     "base_uri": "https://localhost:8080/",
     "height": 1000
    },
    "executionInfo": {
     "elapsed": 390000,
     "status": "ok",
     "timestamp": 1604325263027,
     "user": {
      "displayName": "Yhary Arias",
      "photoUrl": "https://lh3.googleusercontent.com/a-/AOh14Gjcm6QYcZ83oKkaNPyinWBM9hJfnQQukJlQEA6NKw=s64",
      "userId": "11178024957700766699"
     },
     "user_tz": -60
    },
    "id": "A3bj4X9u_75Q",
    "outputId": "4ea21cb9-7e7a-4508-b29a-510f4266ac41"
   },
   "outputs": [],
   "source": [
    "plotresult(bestsol, bests_sa, means_sa, stds_sa,min_cost_sa)\n",
    "\n",
    "print(\"La mejor organización de barcos tiene costo\", min_cost_sa, \" y es la siguiente:\")\n",
    "for idx,barco in enumerate(bestsol):\n",
    "  print(idx,barcos[barco])\n",
    "\n",
    "\n",
    "def plot_evolution(best,bests, means, stds, min_cost):\n",
    "    plt.plot(means, label=\"means\")\n",
    "    plt.plot(bests, label=\"bests\")\n",
    "    plt.fill_between(range(len(means)), means-stds, means+stds, color=\"yellow\", alpha=0.2)\n",
    "    plt.legend()\n",
    "    plt.title(\"Best Costs: %.3f\"%min_cost)\n",
    "\n",
    "def plotresult(best, bests, means, stds,min_cost):\n",
    "    fig = plt.figure(figsize=(15,10))\n",
    "    plot_evolution(best,bests, means, stds,min_cost)"
   ]
  },
  {
   "cell_type": "code",
   "execution_count": null,
   "metadata": {},
   "outputs": [],
   "source": []
  }
 ],
 "metadata": {
  "colab": {
   "collapsed_sections": [],
   "name": "TIA_Barcos_gruas.ipynb",
   "provenance": []
  },
  "kernelspec": {
   "display_name": "Python 3",
   "language": "python",
   "name": "python3"
  },
  "language_info": {
   "codemirror_mode": {
    "name": "ipython",
    "version": 3
   },
   "file_extension": ".py",
   "mimetype": "text/x-python",
   "name": "python",
   "nbconvert_exporter": "python",
   "pygments_lexer": "ipython3",
   "version": "3.7.6"
  }
 },
 "nbformat": 4,
 "nbformat_minor": 1
}
